{
 "cells": [
  {
   "cell_type": "code",
   "execution_count": 1,
   "metadata": {},
   "outputs": [],
   "source": [
    "import pandas as pd\n",
    "%matplotlib inline\n",
    "import pickle as pkl\n",
    "import numpy as np\n",
    "import matplotlib.pylab as plt"
   ]
  },
  {
   "cell_type": "markdown",
   "metadata": {},
   "source": [
    "# Global variables"
   ]
  },
  {
   "cell_type": "code",
   "execution_count": 2,
   "metadata": {},
   "outputs": [],
   "source": [
    "data_folder_name = 'PPG_FieldStudy'"
   ]
  },
  {
   "cell_type": "markdown",
   "metadata": {},
   "source": [
    "# Functions"
   ]
  },
  {
   "cell_type": "code",
   "execution_count": 12,
   "metadata": {},
   "outputs": [],
   "source": [
    "def get_script_dir_path():\n",
    "    script_dir_path = %pwd \n",
    "    script_dir_path += '\\\\'\n",
    "    return script_dir_path"
   ]
  },
  {
   "cell_type": "code",
   "execution_count": 11,
   "metadata": {},
   "outputs": [],
   "source": [
    "def standardize_to_700hz(sensor_values, frequency):\n",
    "    sensor_values_700hz = []\n",
    "    ratio = 700/frequency\n",
    "    new_len = int(len(sensor_values) * ratio) # len of the standardized list\n",
    "    row_index = 0\n",
    "    for i in range(new_len):\n",
    "        sensor_values_700hz.append(sensor_values[int(i/ratio)])\n",
    "        row_index += 1\n",
    "    return sensor_values_700hz"
   ]
  },
  {
   "cell_type": "code",
   "execution_count": 10,
   "metadata": {},
   "outputs": [],
   "source": [
    "def multiply_in_list(value, nb):\n",
    "    new_list = []\n",
    "    for i in range(nb):\n",
    "        new_list.append(value)\n",
    "    return new_list"
   ]
  },
  {
   "cell_type": "markdown",
   "metadata": {},
   "source": [
    "# 1) Data preparation"
   ]
  },
  {
   "cell_type": "markdown",
   "metadata": {},
   "source": [
    "## 1.1) Create paths to data"
   ]
  },
  {
   "cell_type": "code",
   "execution_count": 5,
   "metadata": {},
   "outputs": [
    {
     "name": "stdout",
     "output_type": "stream",
     "text": [
      "C:\\Users\\Louis\\python_scripts\\final_project\\python_for_data_analysis\\\n"
     ]
    }
   ],
   "source": [
    "script_dir_path = get_script_dir_path()\n",
    "print(script_dir_path)"
   ]
  },
  {
   "cell_type": "code",
   "execution_count": 6,
   "metadata": {},
   "outputs": [
    {
     "name": "stdout",
     "output_type": "stream",
     "text": [
      "C:\\Users\\Louis\\python_scripts\\final_project\\python_for_data_analysis\\PPG_FieldStudy\\\n"
     ]
    }
   ],
   "source": [
    "data_folder_path = script_dir_path + data_folder_name + '\\\\'\n",
    "print(data_folder_path)"
   ]
  },
  {
   "cell_type": "code",
   "execution_count": 7,
   "metadata": {},
   "outputs": [
    {
     "name": "stdout",
     "output_type": "stream",
     "text": [
      "C:\\Users\\Louis\\python_scripts\\final_project\\python_for_data_analysis\\PPG_FieldStudy\\S1\\S1.pkl\n",
      "C:\\Users\\Louis\\python_scripts\\final_project\\python_for_data_analysis\\PPG_FieldStudy\\S2\\S2.pkl\n",
      "C:\\Users\\Louis\\python_scripts\\final_project\\python_for_data_analysis\\PPG_FieldStudy\\S3\\S3.pkl\n",
      "C:\\Users\\Louis\\python_scripts\\final_project\\python_for_data_analysis\\PPG_FieldStudy\\S4\\S4.pkl\n",
      "C:\\Users\\Louis\\python_scripts\\final_project\\python_for_data_analysis\\PPG_FieldStudy\\S5\\S5.pkl\n",
      "C:\\Users\\Louis\\python_scripts\\final_project\\python_for_data_analysis\\PPG_FieldStudy\\S6\\S6.pkl\n",
      "C:\\Users\\Louis\\python_scripts\\final_project\\python_for_data_analysis\\PPG_FieldStudy\\S7\\S7.pkl\n",
      "C:\\Users\\Louis\\python_scripts\\final_project\\python_for_data_analysis\\PPG_FieldStudy\\S8\\S8.pkl\n",
      "C:\\Users\\Louis\\python_scripts\\final_project\\python_for_data_analysis\\PPG_FieldStudy\\S9\\S9.pkl\n",
      "C:\\Users\\Louis\\python_scripts\\final_project\\python_for_data_analysis\\PPG_FieldStudy\\S10\\S10.pkl\n",
      "C:\\Users\\Louis\\python_scripts\\final_project\\python_for_data_analysis\\PPG_FieldStudy\\S11\\S11.pkl\n",
      "C:\\Users\\Louis\\python_scripts\\final_project\\python_for_data_analysis\\PPG_FieldStudy\\S12\\S12.pkl\n",
      "C:\\Users\\Louis\\python_scripts\\final_project\\python_for_data_analysis\\PPG_FieldStudy\\S13\\S13.pkl\n",
      "C:\\Users\\Louis\\python_scripts\\final_project\\python_for_data_analysis\\PPG_FieldStudy\\S14\\S14.pkl\n",
      "C:\\Users\\Louis\\python_scripts\\final_project\\python_for_data_analysis\\PPG_FieldStudy\\S15\\S15.pkl\n"
     ]
    }
   ],
   "source": [
    "# Creating path to pkl file for each subject & saving pkl data in list\n",
    "pkl_path_template = \"S{}\\\\S{}.pkl\"\n",
    "pkl_pd_list = []\n",
    "\n",
    "for i in range(15):\n",
    "    path = data_folder_path + pkl_path_template.format(i+1,i+1)\n",
    "    print(path)\n",
    "    pkl_pd_list.append(pd.read_pickle(path))"
   ]
  },
  {
   "cell_type": "markdown",
   "metadata": {},
   "source": [
    "## 1.2) Create pandas dataframe from data"
   ]
  },
  {
   "cell_type": "code",
   "execution_count": 8,
   "metadata": {},
   "outputs": [],
   "source": [
    "def create_pd_dataframe(pkl_data):\n",
    "\n",
    "    # Capteur Empatica E4\n",
    "    wrist_ACC = pkl_data['signal']['wrist']['ACC'] # 32 Hz\n",
    "    wrist_BVP = pkl_data['signal']['wrist']['BVP'] # 64 Hz\n",
    "    wrist_EDA = pkl_data['signal']['wrist']['EDA'] # 4 Hz\n",
    "    wrist_TEMP = pkl_data['signal']['wrist']['TEMP'] # 4 Hz\n",
    "\n",
    "    # Capteur RespiBAN\n",
    "    chest_ACC = pkl_data['signal']['chest']['ACC'] # 700 Hz\n",
    "    chest_ECG = pkl_data['signal']['chest']['ECG'] # 700 Hz\n",
    "    chest_resp = pkl_data['signal']['chest']['Resp'] # 700 Hz\n",
    "    \n",
    "    # extract x, y, z values\n",
    "    chest_ACC_x = np.array(chest_ACC)[:,0]\n",
    "    chest_ACC_y = np.array(chest_ACC)[:,1]\n",
    "    chest_ACC_z = np.array(chest_ACC)[:,2]\n",
    "\n",
    "    print('len wrist_ACC : ' + str(len(wrist_ACC)))\n",
    "    print('len wrist_BVP : ' + str(len(wrist_BVP)))\n",
    "    print('len wrist_EDA : ' + str(len(wrist_EDA)))\n",
    "    print('len wrist_TEMP : ' + str(len(wrist_TEMP)))\n",
    "    print()\n",
    "    print('len chest_ACC : ' + str(len(chest_ACC)))\n",
    "    print('len chest_ECG : ' + str(len(chest_ECG)))\n",
    "    print('len chest_resp : ' + str(len(chest_resp)))\n",
    "    print()\n",
    "\n",
    "\n",
    "    # Standardize every values from empatica E4 sensor to 700hz format\n",
    "    wrist_ACC_700hz = standardize_to_700hz(wrist_ACC, 32)\n",
    "    wrist_BVP_700hz = standardize_to_700hz(wrist_BVP, 64)\n",
    "    wrist_EDA_700hz = standardize_to_700hz(wrist_EDA, 4)\n",
    "    wrist_TEMP_700hz = standardize_to_700hz(wrist_TEMP, 4)\n",
    "    \n",
    "    # extract x, y, z values\n",
    "    wrist_ACC_x = np.array(wrist_ACC_700hz)[:,0]\n",
    "    wrist_ACC_y = np.array(wrist_ACC_700hz)[:,1]\n",
    "    wrist_ACC_z = np.array(wrist_ACC_700hz)[:,2]\n",
    "\n",
    "    print('new len wrist_ACC 700hz : ' + str(len(wrist_ACC_700hz)))\n",
    "    print('new len wrist_BVP 700hz : ' + str(len(wrist_BVP_700hz)))\n",
    "    print('new len wrist_EDA 700hz : ' + str(len(wrist_EDA_700hz)))\n",
    "    print('new len wrist_TEMP 700hz : ' + str(len(wrist_TEMP_700hz)))\n",
    "    print()\n",
    "\n",
    "    # Activity\n",
    "    activity = pkl_data['activity']\n",
    "    print('len activity : ' + str(len(activity)))\n",
    "\n",
    "    # Standardize activity values to 700hz format\n",
    "    activity_700hz = standardize_to_700hz(activity, 4)\n",
    "    print('new len activity : ' + str(len(activity_700hz)))\n",
    "    print()\n",
    "\n",
    "    # subjects infos\n",
    "    subject = pkl_data['subject']\n",
    "    age = pkl_data['questionnaire']['AGE']\n",
    "    gender = pkl_data['questionnaire']['Gender']\n",
    "    height = pkl_data['questionnaire']['HEIGHT']\n",
    "    weight = pkl_data['questionnaire']['WEIGHT']\n",
    "    skin = pkl_data['questionnaire']['SKIN']\n",
    "    sport = pkl_data['questionnaire']['SPORT']\n",
    "\n",
    "    print('age : ' + str(age))\n",
    "    print('gender : ' + gender)\n",
    "    print('height : ' + str(height))\n",
    "    print('weight : ' + str(weight))\n",
    "    print('skin : ' + str(skin))\n",
    "    print('sport : ' + str(sport))\n",
    "    \n",
    "    # replace gender per a number\n",
    "    if (gender == ' m'):\n",
    "        gender = 0\n",
    "    else:\n",
    "        gender = 1    \n",
    "    print('new gender value : ' + str(gender))\n",
    "    \n",
    "    # create lists for subjects infos by just multiplying value by len(chest_resp)\n",
    "    target_len = len(chest_resp)\n",
    "    \n",
    "    age_list = multiply_in_list(age, target_len)\n",
    "    gender_list = multiply_in_list(gender, target_len)\n",
    "    height_list = multiply_in_list(height, target_len)\n",
    "    weight_list = multiply_in_list(weight, target_len)\n",
    "    skin_list = multiply_in_list(skin, target_len)\n",
    "    sport_list = multiply_in_list(sport, target_len)\n",
    "\n",
    "    \n",
    "    # Create dataframe\n",
    "    data = {'activity':np.array(activity_700hz)[:,0], \\\n",
    "            'age':age_list, \\\n",
    "            'gender':gender_list, \\\n",
    "            'height':height_list, \\\n",
    "            'weight':weight_list, \\\n",
    "            'skin':skin_list, \\\n",
    "            'sport':sport_list, \\\n",
    "            'wrist_acc_x':wrist_ACC_x, \\\n",
    "            'wrist_acc_y':wrist_ACC_y, \\\n",
    "            'wrist_acc_z':wrist_ACC_z, \\\n",
    "            'wrist_bvp':np.array(wrist_BVP_700hz)[:,0], \\\n",
    "            #'wrist_eda':wrist_EDA_700hz, \\\n",
    "            #'wrist_temp':wrist_TEMP_700hz, \\\n",
    "            'chest_ACC_x':chest_ACC_x, \\\n",
    "            'chest_ACC_y':chest_ACC_y, \\\n",
    "            'chest_ACC_z':chest_ACC_z, \\\n",
    "            'chest_ecg':np.array(chest_ECG)[:,0], \\\n",
    "            'chest_resp':np.array(chest_resp)[:,0]\n",
    "           }\n",
    "    \n",
    "    pd_data = pd.DataFrame(data)\n",
    "    \n",
    "    print('finished creating dataframe for subject : ' + subject)\n",
    "    \n",
    "    return pd_data"
   ]
  },
  {
   "cell_type": "code",
   "execution_count": null,
   "metadata": {},
   "outputs": [],
   "source": [
    "# Create a panda dataframe for each subject\n",
    "subjects_data = []\n",
    "not_working_list = [] # if we cant convert to panda, then save the id here\n",
    "for i in range(15):\n",
    "    print('---------------------------------')\n",
    "    print('Starting on : S' + str(i+1))\n",
    "    print('---------------------------------')\n",
    "    try:\n",
    "        subjects_data.append(create_pd_dataframe(pkl_pd_list[i]))\n",
    "    except:\n",
    "        print(\"subject broken : \" + str(i))\n",
    "        not_working_list.append(i)\n",
    "    print('---------------------------------')\n",
    "    print('Finished with ' + str(i+1))\n",
    "    print('---------------------------------')\n",
    "    print()"
   ]
  },
  {
   "cell_type": "markdown",
   "metadata": {},
   "source": [
    "# 2) Analyzing data "
   ]
  },
  {
   "cell_type": "code",
   "execution_count": 13,
   "metadata": {},
   "outputs": [
    {
     "name": "stdout",
     "output_type": "stream",
     "text": [
      "len wrist_ACC : 273920\n",
      "len wrist_BVP : 547840\n",
      "len wrist_EDA : 34240\n",
      "len wrist_TEMP : 34240\n",
      "\n",
      "len chest_ACC : 5992000\n",
      "len chest_ECG : 5992000\n",
      "len chest_resp : 5992000\n",
      "\n",
      "new len wrist_ACC 700hz : 5992000\n",
      "new len wrist_BVP 700hz : 5992000\n",
      "new len wrist_EDA 700hz : 5992000\n",
      "new len wrist_TEMP 700hz : 5992000\n",
      "\n",
      "len activity : 34240\n",
      "new len activity : 5992000\n",
      "\n",
      "age : 28\n",
      "gender :  f\n",
      "height : 167.0\n",
      "weight : 60.0\n",
      "skin : 4\n",
      "sport : 5\n",
      "new gender value : 1\n",
      "finished creating dataframe for subject : S9\n"
     ]
    }
   ],
   "source": [
    "frame_8 = create_pd_dataframe(pkl_pd_list[8])"
   ]
  },
  {
   "cell_type": "code",
   "execution_count": null,
   "metadata": {},
   "outputs": [],
   "source": [
    "print(frame_8.reset_index())"
   ]
  },
  {
   "cell_type": "code",
   "execution_count": 27,
   "metadata": {},
   "outputs": [
    {
     "data": {
      "text/plain": [
       "<matplotlib.axes._subplots.AxesSubplot at 0x1c699f6be10>"
      ]
     },
     "execution_count": 27,
     "metadata": {},
     "output_type": "execute_result"
    },
    {
     "data": {
      "image/png": "[encoded data removed]",
      "text/plain": [
       "<Figure size 432x288 with 1 Axes>"
      ]
     },
     "metadata": {
      "needs_background": "light"
     },
     "output_type": "display_data"
    }
   ],
   "source": [
    "frame_8['activity'].plot.line()"
   ]
  },
  {
   "cell_type": "code",
   "execution_count": 42,
   "metadata": {},
   "outputs": [
    {
     "data": {
      "text/plain": [
       "<matplotlib.axes._subplots.AxesSubplot at 0x1c69a1d10f0>"
      ]
     },
     "execution_count": 42,
     "metadata": {},
     "output_type": "execute_result"
    },
    {
     "data": {
      "image/png": "[encoded data removed]",
      "text/plain": [
       "<Figure size 432x288 with 1 Axes>"
      ]
     },
     "metadata": {
      "needs_background": "light"
     },
     "output_type": "display_data"
    }
   ],
   "source": [
    "frame_8['chest_ecg'].iloc[0:10000].plot.line()"
   ]
  },
  {
   "cell_type": "code",
   "execution_count": 48,
   "metadata": {},
   "outputs": [
    {
     "data": {
      "text/plain": [
       "<matplotlib.axes._subplots.AxesSubplot at 0x1c69c024860>"
      ]
     },
     "execution_count": 48,
     "metadata": {},
     "output_type": "execute_result"
    },
    {
     "data": {
      "image/png": "[encoded data removed]",
      "text/plain": [
       "<Figure size 432x288 with 1 Axes>"
      ]
     },
     "metadata": {
      "needs_background": "light"
     },
     "output_type": "display_data"
    }
   ],
   "source": [
    "frame_8.reset_index().plot(x='index', y=['chest_ecg','activity'])"
   ]
  },
  {
   "cell_type": "code",
   "execution_count": 63,
   "metadata": {},
   "outputs": [
    {
     "data": {
      "text/plain": [
       "<matplotlib.axes._subplots.AxesSubplot at 0x1cf9cf73898>"
      ]
     },
     "execution_count": 63,
     "metadata": {},
     "output_type": "execute_result"
    },
    {
     "data": {
      "image/png": "[encoded data removed]",
      "text/plain": [
       "<Figure size 432x288 with 1 Axes>"
      ]
     },
     "metadata": {
      "needs_background": "light"
     },
     "output_type": "display_data"
    }
   ],
   "source": [
    "frame_8.reset_index().plot(x='index', y=['chest_resp','activity'])"
   ]
  },
  {
   "cell_type": "code",
   "execution_count": 70,
   "metadata": {},
   "outputs": [
    {
     "data": {
      "text/plain": [
       "<matplotlib.axes._subplots.AxesSubplot at 0x1caae73d198>"
      ]
     },
     "execution_count": 70,
     "metadata": {},
     "output_type": "execute_result"
    },
    {
     "data": {
      "image/png": "[encoded data removed]",
      "text/plain": [
       "<Figure size 432x288 with 1 Axes>"
      ]
     },
     "metadata": {
      "needs_background": "light"
     },
     "output_type": "display_data"
    }
   ],
   "source": [
    "frame_bvp = frame_8.reset_index()\n",
    "frame_bvp['activity'] = frame_bvp['activity'].apply(lambda x: x*200)\n",
    "frame_bvp.plot(x='index', y=['wrist_bvp','activity'])"
   ]
  },
  {
   "cell_type": "code",
   "execution_count": 14,
   "metadata": {},
   "outputs": [
    {
     "data": {
      "text/plain": [
       "<matplotlib.axes._subplots.AxesSubplot at 0x21ed944e8d0>"
      ]
     },
     "execution_count": 14,
     "metadata": {},
     "output_type": "execute_result"
    },
    {
     "data": {
      "image/png": "[encoded data removed]",
      "text/plain": [
       "<Figure size 432x288 with 1 Axes>"
      ]
     },
     "metadata": {
      "needs_background": "light"
     },
     "output_type": "display_data"
    }
   ],
   "source": [
    "frame_wrist_x = frame_8.reset_index()\n",
    "frame_wrist_x.plot(x='index', y=['wrist_acc_y','activity'])"
   ]
  },
  {
   "cell_type": "code",
   "execution_count": 17,
   "metadata": {},
   "outputs": [
    {
     "data": {
      "text/html": [
       "<div>\n",
       "<style scoped>\n",
       "    .dataframe tbody tr th:only-of-type {\n",
       "        vertical-align: middle;\n",
       "    }\n",
       "\n",
       "    .dataframe tbody tr th {\n",
       "        vertical-align: top;\n",
       "    }\n",
       "\n",
       "    .dataframe thead th {\n",
       "        text-align: right;\n",
       "    }\n",
       "</style>\n",
       "<table border=\"1\" class=\"dataframe\">\n",
       "  <thead>\n",
       "    <tr style=\"text-align: right;\">\n",
       "      <th></th>\n",
       "      <th>activity</th>\n",
       "      <th>age</th>\n",
       "      <th>gender</th>\n",
       "      <th>height</th>\n",
       "      <th>weight</th>\n",
       "      <th>skin</th>\n",
       "      <th>sport</th>\n",
       "      <th>wrist_acc_x</th>\n",
       "      <th>wrist_acc_y</th>\n",
       "      <th>wrist_acc_z</th>\n",
       "      <th>wrist_bvp</th>\n",
       "      <th>chest_ACC_x</th>\n",
       "      <th>chest_ACC_y</th>\n",
       "      <th>chest_ACC_z</th>\n",
       "      <th>chest_ecg</th>\n",
       "      <th>chest_resp</th>\n",
       "    </tr>\n",
       "  </thead>\n",
       "  <tbody>\n",
       "    <tr>\n",
       "      <th>activity</th>\n",
       "      <td>1.000000</td>\n",
       "      <td>NaN</td>\n",
       "      <td>NaN</td>\n",
       "      <td>NaN</td>\n",
       "      <td>NaN</td>\n",
       "      <td>NaN</td>\n",
       "      <td>NaN</td>\n",
       "      <td>0.045915</td>\n",
       "      <td>-0.462852</td>\n",
       "      <td>0.067058</td>\n",
       "      <td>-0.000298</td>\n",
       "      <td>-0.119513</td>\n",
       "      <td>-0.174656</td>\n",
       "      <td>-0.320658</td>\n",
       "      <td>0.001101</td>\n",
       "      <td>0.000072</td>\n",
       "    </tr>\n",
       "    <tr>\n",
       "      <th>age</th>\n",
       "      <td>NaN</td>\n",
       "      <td>NaN</td>\n",
       "      <td>NaN</td>\n",
       "      <td>NaN</td>\n",
       "      <td>NaN</td>\n",
       "      <td>NaN</td>\n",
       "      <td>NaN</td>\n",
       "      <td>NaN</td>\n",
       "      <td>NaN</td>\n",
       "      <td>NaN</td>\n",
       "      <td>NaN</td>\n",
       "      <td>NaN</td>\n",
       "      <td>NaN</td>\n",
       "      <td>NaN</td>\n",
       "      <td>NaN</td>\n",
       "      <td>NaN</td>\n",
       "    </tr>\n",
       "    <tr>\n",
       "      <th>gender</th>\n",
       "      <td>NaN</td>\n",
       "      <td>NaN</td>\n",
       "      <td>NaN</td>\n",
       "      <td>NaN</td>\n",
       "      <td>NaN</td>\n",
       "      <td>NaN</td>\n",
       "      <td>NaN</td>\n",
       "      <td>NaN</td>\n",
       "      <td>NaN</td>\n",
       "      <td>NaN</td>\n",
       "      <td>NaN</td>\n",
       "      <td>NaN</td>\n",
       "      <td>NaN</td>\n",
       "      <td>NaN</td>\n",
       "      <td>NaN</td>\n",
       "      <td>NaN</td>\n",
       "    </tr>\n",
       "    <tr>\n",
       "      <th>height</th>\n",
       "      <td>NaN</td>\n",
       "      <td>NaN</td>\n",
       "      <td>NaN</td>\n",
       "      <td>NaN</td>\n",
       "      <td>NaN</td>\n",
       "      <td>NaN</td>\n",
       "      <td>NaN</td>\n",
       "      <td>NaN</td>\n",
       "      <td>NaN</td>\n",
       "      <td>NaN</td>\n",
       "      <td>NaN</td>\n",
       "      <td>NaN</td>\n",
       "      <td>NaN</td>\n",
       "      <td>NaN</td>\n",
       "      <td>NaN</td>\n",
       "      <td>NaN</td>\n",
       "    </tr>\n",
       "    <tr>\n",
       "      <th>weight</th>\n",
       "      <td>NaN</td>\n",
       "      <td>NaN</td>\n",
       "      <td>NaN</td>\n",
       "      <td>NaN</td>\n",
       "      <td>NaN</td>\n",
       "      <td>NaN</td>\n",
       "      <td>NaN</td>\n",
       "      <td>NaN</td>\n",
       "      <td>NaN</td>\n",
       "      <td>NaN</td>\n",
       "      <td>NaN</td>\n",
       "      <td>NaN</td>\n",
       "      <td>NaN</td>\n",
       "      <td>NaN</td>\n",
       "      <td>NaN</td>\n",
       "      <td>NaN</td>\n",
       "    </tr>\n",
       "    <tr>\n",
       "      <th>skin</th>\n",
       "      <td>NaN</td>\n",
       "      <td>NaN</td>\n",
       "      <td>NaN</td>\n",
       "      <td>NaN</td>\n",
       "      <td>NaN</td>\n",
       "      <td>NaN</td>\n",
       "      <td>NaN</td>\n",
       "      <td>NaN</td>\n",
       "      <td>NaN</td>\n",
       "      <td>NaN</td>\n",
       "      <td>NaN</td>\n",
       "      <td>NaN</td>\n",
       "      <td>NaN</td>\n",
       "      <td>NaN</td>\n",
       "      <td>NaN</td>\n",
       "      <td>NaN</td>\n",
       "    </tr>\n",
       "    <tr>\n",
       "      <th>sport</th>\n",
       "      <td>NaN</td>\n",
       "      <td>NaN</td>\n",
       "      <td>NaN</td>\n",
       "      <td>NaN</td>\n",
       "      <td>NaN</td>\n",
       "      <td>NaN</td>\n",
       "      <td>NaN</td>\n",
       "      <td>NaN</td>\n",
       "      <td>NaN</td>\n",
       "      <td>NaN</td>\n",
       "      <td>NaN</td>\n",
       "      <td>NaN</td>\n",
       "      <td>NaN</td>\n",
       "      <td>NaN</td>\n",
       "      <td>NaN</td>\n",
       "      <td>NaN</td>\n",
       "    </tr>\n",
       "    <tr>\n",
       "      <th>wrist_acc_x</th>\n",
       "      <td>0.045915</td>\n",
       "      <td>NaN</td>\n",
       "      <td>NaN</td>\n",
       "      <td>NaN</td>\n",
       "      <td>NaN</td>\n",
       "      <td>NaN</td>\n",
       "      <td>NaN</td>\n",
       "      <td>1.000000</td>\n",
       "      <td>-0.017826</td>\n",
       "      <td>0.188864</td>\n",
       "      <td>0.003662</td>\n",
       "      <td>0.005347</td>\n",
       "      <td>-0.027631</td>\n",
       "      <td>0.012653</td>\n",
       "      <td>0.004506</td>\n",
       "      <td>-0.011404</td>\n",
       "    </tr>\n",
       "    <tr>\n",
       "      <th>wrist_acc_y</th>\n",
       "      <td>-0.462852</td>\n",
       "      <td>NaN</td>\n",
       "      <td>NaN</td>\n",
       "      <td>NaN</td>\n",
       "      <td>NaN</td>\n",
       "      <td>NaN</td>\n",
       "      <td>NaN</td>\n",
       "      <td>-0.017826</td>\n",
       "      <td>1.000000</td>\n",
       "      <td>-0.044753</td>\n",
       "      <td>-0.005821</td>\n",
       "      <td>0.125071</td>\n",
       "      <td>0.156349</td>\n",
       "      <td>0.458035</td>\n",
       "      <td>-0.003403</td>\n",
       "      <td>0.005889</td>\n",
       "    </tr>\n",
       "    <tr>\n",
       "      <th>wrist_acc_z</th>\n",
       "      <td>0.067058</td>\n",
       "      <td>NaN</td>\n",
       "      <td>NaN</td>\n",
       "      <td>NaN</td>\n",
       "      <td>NaN</td>\n",
       "      <td>NaN</td>\n",
       "      <td>NaN</td>\n",
       "      <td>0.188864</td>\n",
       "      <td>-0.044753</td>\n",
       "      <td>1.000000</td>\n",
       "      <td>0.006739</td>\n",
       "      <td>-0.091988</td>\n",
       "      <td>0.033717</td>\n",
       "      <td>-0.024579</td>\n",
       "      <td>0.002566</td>\n",
       "      <td>0.003639</td>\n",
       "    </tr>\n",
       "    <tr>\n",
       "      <th>wrist_bvp</th>\n",
       "      <td>-0.000298</td>\n",
       "      <td>NaN</td>\n",
       "      <td>NaN</td>\n",
       "      <td>NaN</td>\n",
       "      <td>NaN</td>\n",
       "      <td>NaN</td>\n",
       "      <td>NaN</td>\n",
       "      <td>0.003662</td>\n",
       "      <td>-0.005821</td>\n",
       "      <td>0.006739</td>\n",
       "      <td>1.000000</td>\n",
       "      <td>-0.000079</td>\n",
       "      <td>0.009520</td>\n",
       "      <td>-0.002699</td>\n",
       "      <td>0.003414</td>\n",
       "      <td>-0.003527</td>\n",
       "    </tr>\n",
       "    <tr>\n",
       "      <th>chest_ACC_x</th>\n",
       "      <td>-0.119513</td>\n",
       "      <td>NaN</td>\n",
       "      <td>NaN</td>\n",
       "      <td>NaN</td>\n",
       "      <td>NaN</td>\n",
       "      <td>NaN</td>\n",
       "      <td>NaN</td>\n",
       "      <td>0.005347</td>\n",
       "      <td>0.125071</td>\n",
       "      <td>-0.091988</td>\n",
       "      <td>-0.000079</td>\n",
       "      <td>1.000000</td>\n",
       "      <td>0.028641</td>\n",
       "      <td>0.258641</td>\n",
       "      <td>0.047886</td>\n",
       "      <td>-0.013315</td>\n",
       "    </tr>\n",
       "    <tr>\n",
       "      <th>chest_ACC_y</th>\n",
       "      <td>-0.174656</td>\n",
       "      <td>NaN</td>\n",
       "      <td>NaN</td>\n",
       "      <td>NaN</td>\n",
       "      <td>NaN</td>\n",
       "      <td>NaN</td>\n",
       "      <td>NaN</td>\n",
       "      <td>-0.027631</td>\n",
       "      <td>0.156349</td>\n",
       "      <td>0.033717</td>\n",
       "      <td>0.009520</td>\n",
       "      <td>0.028641</td>\n",
       "      <td>1.000000</td>\n",
       "      <td>0.062306</td>\n",
       "      <td>0.002210</td>\n",
       "      <td>-0.009053</td>\n",
       "    </tr>\n",
       "    <tr>\n",
       "      <th>chest_ACC_z</th>\n",
       "      <td>-0.320658</td>\n",
       "      <td>NaN</td>\n",
       "      <td>NaN</td>\n",
       "      <td>NaN</td>\n",
       "      <td>NaN</td>\n",
       "      <td>NaN</td>\n",
       "      <td>NaN</td>\n",
       "      <td>0.012653</td>\n",
       "      <td>0.458035</td>\n",
       "      <td>-0.024579</td>\n",
       "      <td>-0.002699</td>\n",
       "      <td>0.258641</td>\n",
       "      <td>0.062306</td>\n",
       "      <td>1.000000</td>\n",
       "      <td>0.008421</td>\n",
       "      <td>-0.026347</td>\n",
       "    </tr>\n",
       "    <tr>\n",
       "      <th>chest_ecg</th>\n",
       "      <td>0.001101</td>\n",
       "      <td>NaN</td>\n",
       "      <td>NaN</td>\n",
       "      <td>NaN</td>\n",
       "      <td>NaN</td>\n",
       "      <td>NaN</td>\n",
       "      <td>NaN</td>\n",
       "      <td>0.004506</td>\n",
       "      <td>-0.003403</td>\n",
       "      <td>0.002566</td>\n",
       "      <td>0.003414</td>\n",
       "      <td>0.047886</td>\n",
       "      <td>0.002210</td>\n",
       "      <td>0.008421</td>\n",
       "      <td>1.000000</td>\n",
       "      <td>0.024466</td>\n",
       "    </tr>\n",
       "    <tr>\n",
       "      <th>chest_resp</th>\n",
       "      <td>0.000072</td>\n",
       "      <td>NaN</td>\n",
       "      <td>NaN</td>\n",
       "      <td>NaN</td>\n",
       "      <td>NaN</td>\n",
       "      <td>NaN</td>\n",
       "      <td>NaN</td>\n",
       "      <td>-0.011404</td>\n",
       "      <td>0.005889</td>\n",
       "      <td>0.003639</td>\n",
       "      <td>-0.003527</td>\n",
       "      <td>-0.013315</td>\n",
       "      <td>-0.009053</td>\n",
       "      <td>-0.026347</td>\n",
       "      <td>0.024466</td>\n",
       "      <td>1.000000</td>\n",
       "    </tr>\n",
       "  </tbody>\n",
       "</table>\n",
       "</div>"
      ],
      "text/plain": [
       "             activity  age  gender  height  weight  skin  sport  wrist_acc_x  \\\n",
       "activity     1.000000  NaN     NaN     NaN     NaN   NaN    NaN     0.045915   \n",
       "age               NaN  NaN     NaN     NaN     NaN   NaN    NaN          NaN   \n",
       "gender            NaN  NaN     NaN     NaN     NaN   NaN    NaN          NaN   \n",
       "height            NaN  NaN     NaN     NaN     NaN   NaN    NaN          NaN   \n",
       "weight            NaN  NaN     NaN     NaN     NaN   NaN    NaN          NaN   \n",
       "skin              NaN  NaN     NaN     NaN     NaN   NaN    NaN          NaN   \n",
       "sport             NaN  NaN     NaN     NaN     NaN   NaN    NaN          NaN   \n",
       "wrist_acc_x  0.045915  NaN     NaN     NaN     NaN   NaN    NaN     1.000000   \n",
       "wrist_acc_y -0.462852  NaN     NaN     NaN     NaN   NaN    NaN    -0.017826   \n",
       "wrist_acc_z  0.067058  NaN     NaN     NaN     NaN   NaN    NaN     0.188864   \n",
       "wrist_bvp   -0.000298  NaN     NaN     NaN     NaN   NaN    NaN     0.003662   \n",
       "chest_ACC_x -0.119513  NaN     NaN     NaN     NaN   NaN    NaN     0.005347   \n",
       "chest_ACC_y -0.174656  NaN     NaN     NaN     NaN   NaN    NaN    -0.027631   \n",
       "chest_ACC_z -0.320658  NaN     NaN     NaN     NaN   NaN    NaN     0.012653   \n",
       "chest_ecg    0.001101  NaN     NaN     NaN     NaN   NaN    NaN     0.004506   \n",
       "chest_resp   0.000072  NaN     NaN     NaN     NaN   NaN    NaN    -0.011404   \n",
       "\n",
       "             wrist_acc_y  wrist_acc_z  wrist_bvp  chest_ACC_x  chest_ACC_y  \\\n",
       "activity       -0.462852     0.067058  -0.000298    -0.119513    -0.174656   \n",
       "age                  NaN          NaN        NaN          NaN          NaN   \n",
       "gender               NaN          NaN        NaN          NaN          NaN   \n",
       "height               NaN          NaN        NaN          NaN          NaN   \n",
       "weight               NaN          NaN        NaN          NaN          NaN   \n",
       "skin                 NaN          NaN        NaN          NaN          NaN   \n",
       "sport                NaN          NaN        NaN          NaN          NaN   \n",
       "wrist_acc_x    -0.017826     0.188864   0.003662     0.005347    -0.027631   \n",
       "wrist_acc_y     1.000000    -0.044753  -0.005821     0.125071     0.156349   \n",
       "wrist_acc_z    -0.044753     1.000000   0.006739    -0.091988     0.033717   \n",
       "wrist_bvp      -0.005821     0.006739   1.000000    -0.000079     0.009520   \n",
       "chest_ACC_x     0.125071    -0.091988  -0.000079     1.000000     0.028641   \n",
       "chest_ACC_y     0.156349     0.033717   0.009520     0.028641     1.000000   \n",
       "chest_ACC_z     0.458035    -0.024579  -0.002699     0.258641     0.062306   \n",
       "chest_ecg      -0.003403     0.002566   0.003414     0.047886     0.002210   \n",
       "chest_resp      0.005889     0.003639  -0.003527    -0.013315    -0.009053   \n",
       "\n",
       "             chest_ACC_z  chest_ecg  chest_resp  \n",
       "activity       -0.320658   0.001101    0.000072  \n",
       "age                  NaN        NaN         NaN  \n",
       "gender               NaN        NaN         NaN  \n",
       "height               NaN        NaN         NaN  \n",
       "weight               NaN        NaN         NaN  \n",
       "skin                 NaN        NaN         NaN  \n",
       "sport                NaN        NaN         NaN  \n",
       "wrist_acc_x     0.012653   0.004506   -0.011404  \n",
       "wrist_acc_y     0.458035  -0.003403    0.005889  \n",
       "wrist_acc_z    -0.024579   0.002566    0.003639  \n",
       "wrist_bvp      -0.002699   0.003414   -0.003527  \n",
       "chest_ACC_x     0.258641   0.047886   -0.013315  \n",
       "chest_ACC_y     0.062306   0.002210   -0.009053  \n",
       "chest_ACC_z     1.000000   0.008421   -0.026347  \n",
       "chest_ecg       0.008421   1.000000    0.024466  \n",
       "chest_resp     -0.026347   0.024466    1.000000  "
      ]
     },
     "execution_count": 17,
     "metadata": {},
     "output_type": "execute_result"
    }
   ],
   "source": [
    "frame_8.corr()"
   ]
  },
  {
   "cell_type": "code",
   "execution_count": 16,
   "metadata": {},
   "outputs": [
    {
     "ename": "ValueError",
     "evalue": "operands could not be broadcast together with shapes (5992000,) (5992000,16) ",
     "output_type": "error",
     "traceback": [
      "\u001b[1;31m---------------------------------------------------------------------------\u001b[0m",
      "\u001b[1;31mValueError\u001b[0m                                Traceback (most recent call last)",
      "\u001b[1;32m<ipython-input-16-559dca2cf0b0>\u001b[0m in \u001b[0;36m<module>\u001b[1;34m\u001b[0m\n\u001b[1;32m----> 1\u001b[1;33m \u001b[0mframe_8\u001b[0m\u001b[1;33m[\u001b[0m\u001b[1;34m'activity'\u001b[0m\u001b[1;33m]\u001b[0m\u001b[1;33m.\u001b[0m\u001b[0mcorr\u001b[0m\u001b[1;33m(\u001b[0m\u001b[0mframe_8\u001b[0m\u001b[1;33m)\u001b[0m\u001b[1;33m\u001b[0m\u001b[1;33m\u001b[0m\u001b[0m\n\u001b[0m",
      "\u001b[1;32mC:\\ProgramData\\Anaconda3\\lib\\site-packages\\pandas\\core\\series.py\u001b[0m in \u001b[0;36mcorr\u001b[1;34m(self, other, method, min_periods)\u001b[0m\n\u001b[0;32m   2103\u001b[0m         \u001b[1;32mif\u001b[0m \u001b[0mmethod\u001b[0m \u001b[1;32min\u001b[0m \u001b[1;33m[\u001b[0m\u001b[1;34m'pearson'\u001b[0m\u001b[1;33m,\u001b[0m \u001b[1;34m'spearman'\u001b[0m\u001b[1;33m,\u001b[0m \u001b[1;34m'kendall'\u001b[0m\u001b[1;33m]\u001b[0m \u001b[1;32mor\u001b[0m \u001b[0mcallable\u001b[0m\u001b[1;33m(\u001b[0m\u001b[0mmethod\u001b[0m\u001b[1;33m)\u001b[0m\u001b[1;33m:\u001b[0m\u001b[1;33m\u001b[0m\u001b[1;33m\u001b[0m\u001b[0m\n\u001b[0;32m   2104\u001b[0m             return nanops.nancorr(this.values, other.values, method=method,\n\u001b[1;32m-> 2105\u001b[1;33m                                   min_periods=min_periods)\n\u001b[0m\u001b[0;32m   2106\u001b[0m \u001b[1;33m\u001b[0m\u001b[0m\n\u001b[0;32m   2107\u001b[0m         raise ValueError(\"method must be either 'pearson', \"\n",
      "\u001b[1;32mC:\\ProgramData\\Anaconda3\\lib\\site-packages\\pandas\\core\\nanops.py\u001b[0m in \u001b[0;36m_f\u001b[1;34m(*args, **kwargs)\u001b[0m\n\u001b[0;32m     74\u001b[0m             \u001b[1;32mtry\u001b[0m\u001b[1;33m:\u001b[0m\u001b[1;33m\u001b[0m\u001b[1;33m\u001b[0m\u001b[0m\n\u001b[0;32m     75\u001b[0m                 \u001b[1;32mwith\u001b[0m \u001b[0mnp\u001b[0m\u001b[1;33m.\u001b[0m\u001b[0merrstate\u001b[0m\u001b[1;33m(\u001b[0m\u001b[0minvalid\u001b[0m\u001b[1;33m=\u001b[0m\u001b[1;34m'ignore'\u001b[0m\u001b[1;33m)\u001b[0m\u001b[1;33m:\u001b[0m\u001b[1;33m\u001b[0m\u001b[1;33m\u001b[0m\u001b[0m\n\u001b[1;32m---> 76\u001b[1;33m                     \u001b[1;32mreturn\u001b[0m \u001b[0mf\u001b[0m\u001b[1;33m(\u001b[0m\u001b[1;33m*\u001b[0m\u001b[0margs\u001b[0m\u001b[1;33m,\u001b[0m \u001b[1;33m**\u001b[0m\u001b[0mkwargs\u001b[0m\u001b[1;33m)\u001b[0m\u001b[1;33m\u001b[0m\u001b[1;33m\u001b[0m\u001b[0m\n\u001b[0m\u001b[0;32m     77\u001b[0m             \u001b[1;32mexcept\u001b[0m \u001b[0mValueError\u001b[0m \u001b[1;32mas\u001b[0m \u001b[0me\u001b[0m\u001b[1;33m:\u001b[0m\u001b[1;33m\u001b[0m\u001b[1;33m\u001b[0m\u001b[0m\n\u001b[0;32m     78\u001b[0m                 \u001b[1;31m# we want to transform an object array\u001b[0m\u001b[1;33m\u001b[0m\u001b[1;33m\u001b[0m\u001b[1;33m\u001b[0m\u001b[0m\n",
      "\u001b[1;32mC:\\ProgramData\\Anaconda3\\lib\\site-packages\\pandas\\core\\nanops.py\u001b[0m in \u001b[0;36mnancorr\u001b[1;34m(a, b, method, min_periods)\u001b[0m\n\u001b[0;32m   1091\u001b[0m         \u001b[0mmin_periods\u001b[0m \u001b[1;33m=\u001b[0m \u001b[1;36m1\u001b[0m\u001b[1;33m\u001b[0m\u001b[1;33m\u001b[0m\u001b[0m\n\u001b[0;32m   1092\u001b[0m \u001b[1;33m\u001b[0m\u001b[0m\n\u001b[1;32m-> 1093\u001b[1;33m     \u001b[0mvalid\u001b[0m \u001b[1;33m=\u001b[0m \u001b[0mnotna\u001b[0m\u001b[1;33m(\u001b[0m\u001b[0ma\u001b[0m\u001b[1;33m)\u001b[0m \u001b[1;33m&\u001b[0m \u001b[0mnotna\u001b[0m\u001b[1;33m(\u001b[0m\u001b[0mb\u001b[0m\u001b[1;33m)\u001b[0m\u001b[1;33m\u001b[0m\u001b[1;33m\u001b[0m\u001b[0m\n\u001b[0m\u001b[0;32m   1094\u001b[0m     \u001b[1;32mif\u001b[0m \u001b[1;32mnot\u001b[0m \u001b[0mvalid\u001b[0m\u001b[1;33m.\u001b[0m\u001b[0mall\u001b[0m\u001b[1;33m(\u001b[0m\u001b[1;33m)\u001b[0m\u001b[1;33m:\u001b[0m\u001b[1;33m\u001b[0m\u001b[1;33m\u001b[0m\u001b[0m\n\u001b[0;32m   1095\u001b[0m         \u001b[0ma\u001b[0m \u001b[1;33m=\u001b[0m \u001b[0ma\u001b[0m\u001b[1;33m[\u001b[0m\u001b[0mvalid\u001b[0m\u001b[1;33m]\u001b[0m\u001b[1;33m\u001b[0m\u001b[1;33m\u001b[0m\u001b[0m\n",
      "\u001b[1;31mValueError\u001b[0m: operands could not be broadcast together with shapes (5992000,) (5992000,16) "
     ]
    }
   ],
   "source": [
    "frame_8['activity'].corr(frame_8)"
   ]
  }
 ],
 "metadata": {
  "kernelspec": {
   "display_name": "Python 3",
   "language": "python",
   "name": "python3"
  },
  "language_info": {
   "codemirror_mode": {
    "name": "ipython",
    "version": 3
   },
   "file_extension": ".py",
   "mimetype": "text/x-python",
   "name": "python",
   "nbconvert_exporter": "python",
   "pygments_lexer": "ipython3",
   "version": "3.7.3"
  }
 },
 "nbformat": 4,
 "nbformat_minor": 2
}
