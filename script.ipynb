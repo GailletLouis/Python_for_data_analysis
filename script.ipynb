{
 "cells": [
  {
   "cell_type": "code",
   "execution_count": 33,
   "metadata": {},
   "outputs": [],
   "source": [
    "import pandas as pd\n",
    "%matplotlib inline\n",
    "import pickle as pkl\n",
    "import numpy as np\n",
    "import matplotlib"
   ]
  },
  {
   "cell_type": "markdown",
   "metadata": {},
   "source": [
    "# Global variables"
   ]
  },
  {
   "cell_type": "code",
   "execution_count": 2,
   "metadata": {},
   "outputs": [],
   "source": [
    "data_folder_name = 'PPG_FieldStudy'"
   ]
  },
  {
   "cell_type": "markdown",
   "metadata": {},
   "source": [
    "# Functions"
   ]
  },
  {
   "cell_type": "code",
   "execution_count": 3,
   "metadata": {},
   "outputs": [],
   "source": [
    "def get_script_dir_path():\n",
    "    script_dir_path = %pwd \n",
    "    script_dir_path += '\\\\'\n",
    "    return script_dir_path"
   ]
  },
  {
   "cell_type": "code",
   "execution_count": 4,
   "metadata": {},
   "outputs": [],
   "source": [
    "def standardize_to_700hz(sensor_values, frequency):\n",
    "    sensor_values_700hz = []\n",
    "    ratio = 700/frequency\n",
    "    new_len = int(len(sensor_values) * ratio) # len of the standardized list\n",
    "    row_index = 0\n",
    "    for i in range(new_len):\n",
    "        sensor_values_700hz.append(sensor_values[int(i/ratio)])\n",
    "        row_index += 1\n",
    "    return sensor_values_700hz"
   ]
  },
  {
   "cell_type": "code",
   "execution_count": 5,
   "metadata": {},
   "outputs": [],
   "source": [
    "def multiply_in_list(value, nb):\n",
    "    new_list = []\n",
    "    for i in range(nb):\n",
    "        new_list.append(value)\n",
    "    return new_list"
   ]
  },
  {
   "cell_type": "markdown",
   "metadata": {},
   "source": [
    "# 1) Data preparation"
   ]
  },
  {
   "cell_type": "markdown",
   "metadata": {},
   "source": [
    "## 1.1) Create paths to data"
   ]
  },
  {
   "cell_type": "code",
   "execution_count": 6,
   "metadata": {},
   "outputs": [
    {
     "name": "stdout",
     "output_type": "stream",
     "text": [
      "C:\\Users\\Louis\\python_scripts\\final_project\\python_for_data_analysis\\\n"
     ]
    }
   ],
   "source": [
    "script_dir_path = get_script_dir_path()\n",
    "print(script_dir_path)"
   ]
  },
  {
   "cell_type": "code",
   "execution_count": 7,
   "metadata": {},
   "outputs": [
    {
     "name": "stdout",
     "output_type": "stream",
     "text": [
      "C:\\Users\\Louis\\python_scripts\\final_project\\python_for_data_analysis\\PPG_FieldStudy\\\n"
     ]
    }
   ],
   "source": [
    "data_folder_path = script_dir_path + data_folder_name + '\\\\'\n",
    "print(data_folder_path)"
   ]
  },
  {
   "cell_type": "code",
   "execution_count": 8,
   "metadata": {},
   "outputs": [
    {
     "name": "stdout",
     "output_type": "stream",
     "text": [
      "C:\\Users\\Louis\\python_scripts\\final_project\\python_for_data_analysis\\PPG_FieldStudy\\S1\\S1.pkl\n",
      "C:\\Users\\Louis\\python_scripts\\final_project\\python_for_data_analysis\\PPG_FieldStudy\\S2\\S2.pkl\n",
      "C:\\Users\\Louis\\python_scripts\\final_project\\python_for_data_analysis\\PPG_FieldStudy\\S3\\S3.pkl\n",
      "C:\\Users\\Louis\\python_scripts\\final_project\\python_for_data_analysis\\PPG_FieldStudy\\S4\\S4.pkl\n",
      "C:\\Users\\Louis\\python_scripts\\final_project\\python_for_data_analysis\\PPG_FieldStudy\\S5\\S5.pkl\n",
      "C:\\Users\\Louis\\python_scripts\\final_project\\python_for_data_analysis\\PPG_FieldStudy\\S6\\S6.pkl\n",
      "C:\\Users\\Louis\\python_scripts\\final_project\\python_for_data_analysis\\PPG_FieldStudy\\S7\\S7.pkl\n",
      "C:\\Users\\Louis\\python_scripts\\final_project\\python_for_data_analysis\\PPG_FieldStudy\\S8\\S8.pkl\n",
      "C:\\Users\\Louis\\python_scripts\\final_project\\python_for_data_analysis\\PPG_FieldStudy\\S9\\S9.pkl\n",
      "C:\\Users\\Louis\\python_scripts\\final_project\\python_for_data_analysis\\PPG_FieldStudy\\S10\\S10.pkl\n",
      "C:\\Users\\Louis\\python_scripts\\final_project\\python_for_data_analysis\\PPG_FieldStudy\\S11\\S11.pkl\n",
      "C:\\Users\\Louis\\python_scripts\\final_project\\python_for_data_analysis\\PPG_FieldStudy\\S12\\S12.pkl\n",
      "C:\\Users\\Louis\\python_scripts\\final_project\\python_for_data_analysis\\PPG_FieldStudy\\S13\\S13.pkl\n",
      "C:\\Users\\Louis\\python_scripts\\final_project\\python_for_data_analysis\\PPG_FieldStudy\\S14\\S14.pkl\n",
      "C:\\Users\\Louis\\python_scripts\\final_project\\python_for_data_analysis\\PPG_FieldStudy\\S15\\S15.pkl\n"
     ]
    }
   ],
   "source": [
    "# Creating path to pkl file for each subject & saving pkl data in list\n",
    "pkl_path_template = \"S{}\\\\S{}.pkl\"\n",
    "pkl_pd_list = []\n",
    "\n",
    "for i in range(15):\n",
    "    path = data_folder_path + pkl_path_template.format(i+1,i+1)\n",
    "    print(path)\n",
    "    pkl_pd_list.append(pd.read_pickle(path))"
   ]
  },
  {
   "cell_type": "markdown",
   "metadata": {},
   "source": [
    "## 1.2) Create pandas dataframe from data"
   ]
  },
  {
   "cell_type": "code",
   "execution_count": 9,
   "metadata": {},
   "outputs": [],
   "source": [
    "def create_pd_dataframe(pkl_data):\n",
    "\n",
    "    # Capteur Empatica E4\n",
    "    wrist_ACC = pkl_data['signal']['wrist']['ACC'] # 32 Hz\n",
    "    wrist_BVP = pkl_data['signal']['wrist']['BVP'] # 64 Hz\n",
    "    wrist_EDA = pkl_data['signal']['wrist']['EDA'] # 4 Hz\n",
    "    wrist_TEMP = pkl_data['signal']['wrist']['TEMP'] # 4 Hz\n",
    "\n",
    "    # Capteur RespiBAN\n",
    "    chest_ACC = pkl_data['signal']['chest']['ACC'] # 700 Hz\n",
    "    chest_ECG = pkl_data['signal']['chest']['ECG'] # 700 Hz\n",
    "    chest_resp = pkl_data['signal']['chest']['Resp'] # 700 Hz\n",
    "    \n",
    "    # extract x, y, z values\n",
    "    chest_ACC_x = np.array(chest_ACC)[:,0]\n",
    "    chest_ACC_y = np.array(chest_ACC)[:,1]\n",
    "    chest_ACC_z = np.array(chest_ACC)[:,2]\n",
    "\n",
    "    print('len wrist_ACC : ' + str(len(wrist_ACC)))\n",
    "    print('len wrist_BVP : ' + str(len(wrist_BVP)))\n",
    "    print('len wrist_EDA : ' + str(len(wrist_EDA)))\n",
    "    print('len wrist_TEMP : ' + str(len(wrist_TEMP)))\n",
    "    print()\n",
    "    print('len chest_ACC : ' + str(len(chest_ACC)))\n",
    "    print('len chest_ECG : ' + str(len(chest_ECG)))\n",
    "    print('len chest_resp : ' + str(len(chest_resp)))\n",
    "    print()\n",
    "\n",
    "\n",
    "    # Standardize every values from empatica E4 sensor to 700hz format\n",
    "    wrist_ACC_700hz = standardize_to_700hz(wrist_ACC, 32)\n",
    "    wrist_BVP_700hz = standardize_to_700hz(wrist_BVP, 64)\n",
    "    wrist_EDA_700hz = standardize_to_700hz(wrist_EDA, 4)\n",
    "    wrist_TEMP_700hz = standardize_to_700hz(wrist_TEMP, 4)\n",
    "    \n",
    "    # extract x, y, z values\n",
    "    wrist_ACC_x = np.array(wrist_ACC_700hz)[:,0]\n",
    "    wrist_ACC_y = np.array(wrist_ACC_700hz)[:,1]\n",
    "    wrist_ACC_z = np.array(wrist_ACC_700hz)[:,2]\n",
    "\n",
    "    print('new len wrist_ACC 700hz : ' + str(len(wrist_ACC_700hz)))\n",
    "    print('new len wrist_BVP 700hz : ' + str(len(wrist_BVP_700hz)))\n",
    "    print('new len wrist_EDA 700hz : ' + str(len(wrist_EDA_700hz)))\n",
    "    print('new len wrist_TEMP 700hz : ' + str(len(wrist_TEMP_700hz)))\n",
    "    print()\n",
    "\n",
    "    # Activity\n",
    "    activity = pkl_data['activity']\n",
    "    print('len activity : ' + str(len(activity)))\n",
    "\n",
    "    # Standardize activity values to 700hz format\n",
    "    activity_700hz = standardize_to_700hz(activity, 4)\n",
    "    print('new len activity : ' + str(len(activity_700hz)))\n",
    "    print()\n",
    "\n",
    "    # subjects infos\n",
    "    subject = pkl_data['subject']\n",
    "    age = pkl_data['questionnaire']['AGE']\n",
    "    gender = pkl_data['questionnaire']['Gender']\n",
    "    height = pkl_data['questionnaire']['HEIGHT']\n",
    "    weight = pkl_data['questionnaire']['WEIGHT']\n",
    "    skin = pkl_data['questionnaire']['SKIN']\n",
    "    sport = pkl_data['questionnaire']['SPORT']\n",
    "\n",
    "    print('age : ' + str(age))\n",
    "    print('gender : ' + gender)\n",
    "    print('height : ' + str(height))\n",
    "    print('weight : ' + str(weight))\n",
    "    print('skin : ' + str(skin))\n",
    "    print('sport : ' + str(sport))\n",
    "    \n",
    "    # replace gender per a number\n",
    "    if (gender == ' m'):\n",
    "        gender = 0\n",
    "    else:\n",
    "        gender = 1    \n",
    "    print('new gender value : ' + str(gender))\n",
    "    \n",
    "    # create lists for subjects infos by just multiplying value by len(chest_resp)\n",
    "    target_len = len(chest_resp)\n",
    "    \n",
    "    age_list = multiply_in_list(age, target_len)\n",
    "    gender_list = multiply_in_list(gender, target_len)\n",
    "    height_list = multiply_in_list(height, target_len)\n",
    "    weight_list = multiply_in_list(weight, target_len)\n",
    "    skin_list = multiply_in_list(skin, target_len)\n",
    "    sport_list = multiply_in_list(sport, target_len)\n",
    "\n",
    "    \n",
    "    # Create dataframe\n",
    "    data = {'activity':np.array(activity_700hz)[:,0], \\\n",
    "            'age':age_list, \\\n",
    "            'gender':gender_list, \\\n",
    "            'height':height_list, \\\n",
    "            'weight':weight_list, \\\n",
    "            'skin':skin_list, \\\n",
    "            'sport':sport_list, \\\n",
    "            'wrist_acc_x':wrist_ACC_x, \\\n",
    "            'wrist_acc_y':wrist_ACC_y, \\\n",
    "            'wrist_acc_z':wrist_ACC_z, \\\n",
    "            'wrist_bvp':wrist_BVP_700hz, \\\n",
    "            'wrist_eda':wrist_EDA_700hz, \\\n",
    "            'wrist_temp':wrist_TEMP_700hz, \\\n",
    "            'chest_ACC_x':chest_ACC_x, \\\n",
    "            'chest_ACC_y':chest_ACC_y, \\\n",
    "            'chest_ACC_z':chest_ACC_z, \\\n",
    "            'chest_ecg':np.array(chest_ECG)[:,0], \\\n",
    "            'chest_resp':np.array(chest_resp)[:,0]\n",
    "           }\n",
    "    \n",
    "    pd_data = pd.DataFrame(data)\n",
    "    \n",
    "    print('finished creating dataframe for subject : ' + subject)\n",
    "    \n",
    "    return pd_data"
   ]
  },
  {
   "cell_type": "code",
   "execution_count": null,
   "metadata": {},
   "outputs": [],
   "source": [
    "# Create a panda dataframe for each subject\n",
    "subjects_data = []\n",
    "not_working_list = [] # if we cant convert to panda, then save the id here\n",
    "for i in range(15):\n",
    "    print('---------------------------------')\n",
    "    print('Starting on : S' + str(i+1))\n",
    "    print('---------------------------------')\n",
    "    try:\n",
    "        subjects_data.append(create_pd_dataframe(pkl_pd_list[i]))\n",
    "    except:\n",
    "        print(\"subject broken : \" + str(i))\n",
    "        not_working_list.append(i)\n",
    "    print('---------------------------------')\n",
    "    print('Finished with ' + str(i+1))\n",
    "    print('---------------------------------')\n",
    "    print()"
   ]
  },
  {
   "cell_type": "markdown",
   "metadata": {},
   "source": [
    "# 2) Analyzing data "
   ]
  },
  {
   "cell_type": "code",
   "execution_count": 10,
   "metadata": {},
   "outputs": [
    {
     "name": "stdout",
     "output_type": "stream",
     "text": [
      "len wrist_ACC : 273920\n",
      "len wrist_BVP : 547840\n",
      "len wrist_EDA : 34240\n",
      "len wrist_TEMP : 34240\n",
      "\n",
      "len chest_ACC : 5992000\n",
      "len chest_ECG : 5992000\n",
      "len chest_resp : 5992000\n",
      "\n",
      "new len wrist_ACC 700hz : 5992000\n",
      "new len wrist_BVP 700hz : 5992000\n",
      "new len wrist_EDA 700hz : 5992000\n",
      "new len wrist_TEMP 700hz : 5992000\n",
      "\n",
      "len activity : 34240\n",
      "new len activity : 5992000\n",
      "\n",
      "age : 28\n",
      "gender :  f\n",
      "height : 167.0\n",
      "weight : 60.0\n",
      "skin : 4\n",
      "sport : 5\n",
      "new gender value : 1\n",
      "finished creating dataframe for subject : S9\n"
     ]
    }
   ],
   "source": [
    "frame_8 = create_pd_dataframe(pkl_pd_list[8])"
   ]
  },
  {
   "cell_type": "code",
   "execution_count": 35,
   "metadata": {},
   "outputs": [
    {
     "name": "stdout",
     "output_type": "stream",
     "text": [
      "           index  activity  age  gender  height  weight  skin  sport  \\\n",
      "0              0       0.0   28       1   167.0    60.0     4      5   \n",
      "1              1       0.0   28       1   167.0    60.0     4      5   \n",
      "2              2       0.0   28       1   167.0    60.0     4      5   \n",
      "3              3       0.0   28       1   167.0    60.0     4      5   \n",
      "4              4       0.0   28       1   167.0    60.0     4      5   \n",
      "5              5       0.0   28       1   167.0    60.0     4      5   \n",
      "6              6       0.0   28       1   167.0    60.0     4      5   \n",
      "7              7       0.0   28       1   167.0    60.0     4      5   \n",
      "8              8       0.0   28       1   167.0    60.0     4      5   \n",
      "9              9       0.0   28       1   167.0    60.0     4      5   \n",
      "10            10       0.0   28       1   167.0    60.0     4      5   \n",
      "11            11       0.0   28       1   167.0    60.0     4      5   \n",
      "12            12       0.0   28       1   167.0    60.0     4      5   \n",
      "13            13       0.0   28       1   167.0    60.0     4      5   \n",
      "14            14       0.0   28       1   167.0    60.0     4      5   \n",
      "15            15       0.0   28       1   167.0    60.0     4      5   \n",
      "16            16       0.0   28       1   167.0    60.0     4      5   \n",
      "17            17       0.0   28       1   167.0    60.0     4      5   \n",
      "18            18       0.0   28       1   167.0    60.0     4      5   \n",
      "19            19       0.0   28       1   167.0    60.0     4      5   \n",
      "20            20       0.0   28       1   167.0    60.0     4      5   \n",
      "21            21       0.0   28       1   167.0    60.0     4      5   \n",
      "22            22       0.0   28       1   167.0    60.0     4      5   \n",
      "23            23       0.0   28       1   167.0    60.0     4      5   \n",
      "24            24       0.0   28       1   167.0    60.0     4      5   \n",
      "25            25       0.0   28       1   167.0    60.0     4      5   \n",
      "26            26       0.0   28       1   167.0    60.0     4      5   \n",
      "27            27       0.0   28       1   167.0    60.0     4      5   \n",
      "28            28       0.0   28       1   167.0    60.0     4      5   \n",
      "29            29       0.0   28       1   167.0    60.0     4      5   \n",
      "...          ...       ...  ...     ...     ...     ...   ...    ...   \n",
      "5991970  5991970       0.0   28       1   167.0    60.0     4      5   \n",
      "5991971  5991971       0.0   28       1   167.0    60.0     4      5   \n",
      "5991972  5991972       0.0   28       1   167.0    60.0     4      5   \n",
      "5991973  5991973       0.0   28       1   167.0    60.0     4      5   \n",
      "5991974  5991974       0.0   28       1   167.0    60.0     4      5   \n",
      "5991975  5991975       0.0   28       1   167.0    60.0     4      5   \n",
      "5991976  5991976       0.0   28       1   167.0    60.0     4      5   \n",
      "5991977  5991977       0.0   28       1   167.0    60.0     4      5   \n",
      "5991978  5991978       0.0   28       1   167.0    60.0     4      5   \n",
      "5991979  5991979       0.0   28       1   167.0    60.0     4      5   \n",
      "5991980  5991980       0.0   28       1   167.0    60.0     4      5   \n",
      "5991981  5991981       0.0   28       1   167.0    60.0     4      5   \n",
      "5991982  5991982       0.0   28       1   167.0    60.0     4      5   \n",
      "5991983  5991983       0.0   28       1   167.0    60.0     4      5   \n",
      "5991984  5991984       0.0   28       1   167.0    60.0     4      5   \n",
      "5991985  5991985       0.0   28       1   167.0    60.0     4      5   \n",
      "5991986  5991986       0.0   28       1   167.0    60.0     4      5   \n",
      "5991987  5991987       0.0   28       1   167.0    60.0     4      5   \n",
      "5991988  5991988       0.0   28       1   167.0    60.0     4      5   \n",
      "5991989  5991989       0.0   28       1   167.0    60.0     4      5   \n",
      "5991990  5991990       0.0   28       1   167.0    60.0     4      5   \n",
      "5991991  5991991       0.0   28       1   167.0    60.0     4      5   \n",
      "5991992  5991992       0.0   28       1   167.0    60.0     4      5   \n",
      "5991993  5991993       0.0   28       1   167.0    60.0     4      5   \n",
      "5991994  5991994       0.0   28       1   167.0    60.0     4      5   \n",
      "5991995  5991995       0.0   28       1   167.0    60.0     4      5   \n",
      "5991996  5991996       0.0   28       1   167.0    60.0     4      5   \n",
      "5991997  5991997       0.0   28       1   167.0    60.0     4      5   \n",
      "5991998  5991998       0.0   28       1   167.0    60.0     4      5   \n",
      "5991999  5991999       0.0   28       1   167.0    60.0     4      5   \n",
      "\n",
      "         wrist_acc_x  wrist_acc_y  wrist_acc_z  wrist_bvp   wrist_eda  \\\n",
      "0          -0.312500     0.187500     0.937500    [-0.89]  [0.055091]   \n",
      "1          -0.312500     0.187500     0.937500    [-0.89]  [0.055091]   \n",
      "2          -0.312500     0.187500     0.937500    [-0.89]  [0.055091]   \n",
      "3          -0.312500     0.187500     0.937500    [-0.89]  [0.055091]   \n",
      "4          -0.312500     0.187500     0.937500    [-0.89]  [0.055091]   \n",
      "5          -0.312500     0.187500     0.937500    [-0.89]  [0.055091]   \n",
      "6          -0.312500     0.187500     0.937500    [-0.89]  [0.055091]   \n",
      "7          -0.312500     0.187500     0.937500    [-0.89]  [0.055091]   \n",
      "8          -0.312500     0.187500     0.937500    [-0.89]  [0.055091]   \n",
      "9          -0.312500     0.187500     0.937500    [-0.89]  [0.055091]   \n",
      "10         -0.312500     0.187500     0.937500    [-0.89]  [0.055091]   \n",
      "11         -0.312500     0.187500     0.937500    [-1.41]  [0.055091]   \n",
      "12         -0.312500     0.187500     0.937500    [-1.41]  [0.055091]   \n",
      "13         -0.312500     0.187500     0.937500    [-1.41]  [0.055091]   \n",
      "14         -0.312500     0.187500     0.937500    [-1.41]  [0.055091]   \n",
      "15         -0.312500     0.187500     0.937500    [-1.41]  [0.055091]   \n",
      "16         -0.312500     0.187500     0.937500    [-1.41]  [0.055091]   \n",
      "17         -0.312500     0.187500     0.937500    [-1.41]  [0.055091]   \n",
      "18         -0.312500     0.187500     0.937500    [-1.41]  [0.055091]   \n",
      "19         -0.312500     0.187500     0.937500    [-1.41]  [0.055091]   \n",
      "20         -0.312500     0.187500     0.937500    [-1.41]  [0.055091]   \n",
      "21         -0.312500     0.187500     0.937500    [-1.41]  [0.055091]   \n",
      "22         -0.312500     0.187500     0.937500    [-1.66]  [0.055091]   \n",
      "23         -0.312500     0.187500     0.937500    [-1.66]  [0.055091]   \n",
      "24         -0.312500     0.187500     0.937500    [-1.66]  [0.055091]   \n",
      "25         -0.312500     0.187500     0.937500    [-1.66]  [0.055091]   \n",
      "26         -0.312500     0.187500     0.937500    [-1.66]  [0.055091]   \n",
      "27         -0.312500     0.187500     0.937500    [-1.66]  [0.055091]   \n",
      "28         -0.312500     0.187500     0.937500    [-1.66]  [0.055091]   \n",
      "29         -0.312500     0.187500     0.937500    [-1.66]  [0.055091]   \n",
      "...              ...          ...          ...        ...         ...   \n",
      "5991970    -0.328125    -0.031250    -0.921875  [-176.87]  [0.205255]   \n",
      "5991971    -0.328125    -0.031250    -0.921875  [-176.87]  [0.205255]   \n",
      "5991972    -0.328125    -0.031250    -0.921875  [-176.87]  [0.205255]   \n",
      "5991973    -0.328125    -0.031250    -0.921875  [-176.87]  [0.205255]   \n",
      "5991974    -0.328125    -0.031250    -0.921875  [-176.87]  [0.205255]   \n",
      "5991975    -0.328125    -0.031250    -0.921875  [-176.87]  [0.205255]   \n",
      "5991976    -0.328125    -0.031250    -0.921875  [-176.87]  [0.205255]   \n",
      "5991977    -0.328125    -0.031250    -0.921875  [-176.87]  [0.205255]   \n",
      "5991978    -0.328125    -0.031250    -0.921875  [-176.87]  [0.205255]   \n",
      "5991979    -0.281250    -0.046875    -0.921875  [-183.55]  [0.205255]   \n",
      "5991980    -0.281250    -0.046875    -0.921875  [-183.55]  [0.205255]   \n",
      "5991981    -0.281250    -0.046875    -0.921875  [-183.55]  [0.205255]   \n",
      "5991982    -0.281250    -0.046875    -0.921875  [-183.55]  [0.205255]   \n",
      "5991983    -0.281250    -0.046875    -0.921875  [-183.55]  [0.205255]   \n",
      "5991984    -0.281250    -0.046875    -0.921875  [-183.55]  [0.205255]   \n",
      "5991985    -0.281250    -0.046875    -0.921875  [-183.55]  [0.205255]   \n",
      "5991986    -0.281250    -0.046875    -0.921875  [-183.55]  [0.205255]   \n",
      "5991987    -0.281250    -0.046875    -0.921875  [-183.55]  [0.205255]   \n",
      "5991988    -0.281250    -0.046875    -0.921875  [-183.55]  [0.205255]   \n",
      "5991989    -0.281250    -0.046875    -0.921875  [-183.55]  [0.205255]   \n",
      "5991990    -0.281250    -0.046875    -0.921875  [-174.75]  [0.205255]   \n",
      "5991991    -0.281250    -0.046875    -0.921875  [-174.75]  [0.205255]   \n",
      "5991992    -0.281250    -0.046875    -0.921875  [-174.75]  [0.205255]   \n",
      "5991993    -0.281250    -0.046875    -0.921875  [-174.75]  [0.205255]   \n",
      "5991994    -0.281250    -0.046875    -0.921875  [-174.75]  [0.205255]   \n",
      "5991995    -0.281250    -0.046875    -0.921875  [-174.75]  [0.205255]   \n",
      "5991996    -0.281250    -0.046875    -0.921875  [-174.75]  [0.205255]   \n",
      "5991997    -0.281250    -0.046875    -0.921875  [-174.75]  [0.205255]   \n",
      "5991998    -0.281250    -0.046875    -0.921875  [-174.75]  [0.205255]   \n",
      "5991999    -0.281250    -0.046875    -0.921875  [-174.75]  [0.205255]   \n",
      "\n",
      "        wrist_temp  chest_ACC_x  chest_ACC_y  chest_ACC_z  chest_ecg  \\\n",
      "0          [32.09]       0.8474      -0.0082      -0.3622   0.042297   \n",
      "1          [32.09]       0.8478      -0.0072      -0.3610   0.047241   \n",
      "2          [32.09]       0.8478      -0.0086      -0.3584   0.055527   \n",
      "3          [32.09]       0.8466      -0.0072      -0.3590   0.062027   \n",
      "4          [32.09]       0.8478      -0.0094      -0.3632   0.066605   \n",
      "5          [32.09]       0.8466      -0.0078      -0.3646   0.070175   \n",
      "6          [32.09]       0.8466      -0.0070      -0.3650   0.074203   \n",
      "7          [32.09]       0.8474      -0.0094      -0.3608   0.072739   \n",
      "8          [32.09]       0.8494      -0.0126      -0.3616   0.076859   \n",
      "9          [32.09]       0.8474      -0.0116      -0.3618   0.080887   \n",
      "10         [32.09]       0.8462      -0.0078      -0.3634   0.081253   \n",
      "11         [32.09]       0.8478      -0.0088      -0.3638   0.081802   \n",
      "12         [32.09]       0.8498      -0.0104      -0.3656   0.086288   \n",
      "13         [32.09]       0.8484      -0.0078      -0.3702   0.093155   \n",
      "14         [32.09]       0.8454      -0.0066      -0.3702   0.097549   \n",
      "15         [32.09]       0.8440      -0.0066      -0.3692   0.104050   \n",
      "16         [32.09]       0.8440      -0.0056      -0.3652   0.111191   \n",
      "17         [32.09]       0.8456      -0.0078      -0.3646   0.117691   \n",
      "18         [32.09]       0.8440      -0.0040      -0.3658   0.123230   \n",
      "19         [32.09]       0.8430      -0.0072      -0.3670   0.124008   \n",
      "20         [32.09]       0.8402      -0.0052      -0.3714   0.125793   \n",
      "21         [32.09]       0.8392      -0.0050      -0.3708   0.127029   \n",
      "22         [32.09]       0.8382      -0.0054      -0.3710   0.129593   \n",
      "23         [32.09]       0.8386      -0.0072      -0.3718   0.132339   \n",
      "24         [32.09]       0.8398      -0.0078      -0.3676   0.136642   \n",
      "25         [32.09]       0.8386      -0.0066      -0.3730   0.141312   \n",
      "26         [32.09]       0.8394      -0.0054      -0.3718   0.144150   \n",
      "27         [32.09]       0.8398      -0.0080      -0.3734   0.147537   \n",
      "28         [32.09]       0.8382      -0.0060      -0.3752   0.148727   \n",
      "29         [32.09]       0.8354      -0.0054      -0.3768   0.152893   \n",
      "...            ...          ...          ...          ...        ...   \n",
      "5991970    [31.79]       0.9018      -0.0306      -0.1418  -0.109818   \n",
      "5991971    [31.79]       0.8990      -0.0264      -0.1474  -0.103592   \n",
      "5991972    [31.79]       0.9016      -0.0254      -0.1448  -0.097458   \n",
      "5991973    [31.79]       0.9008      -0.0252      -0.1458  -0.095032   \n",
      "5991974    [31.79]       0.9050      -0.0222      -0.1510  -0.091003   \n",
      "5991975    [31.79]       0.9056      -0.0232      -0.1512  -0.087662   \n",
      "5991976    [31.79]       0.9058      -0.0224      -0.1458  -0.082581   \n",
      "5991977    [31.79]       0.9070      -0.0230      -0.1502  -0.082535   \n",
      "5991978    [31.79]       0.9090      -0.0238      -0.1474  -0.085831   \n",
      "5991979    [31.79]       0.9086      -0.0232      -0.1452  -0.075760   \n",
      "5991980    [31.79]       0.9114      -0.0194      -0.1486  -0.073563   \n",
      "5991981    [31.79]       0.9140      -0.0178      -0.1496  -0.077316   \n",
      "5991982    [31.79]       0.9144      -0.0190      -0.1470  -0.083313   \n",
      "5991983    [31.79]       0.9158      -0.0182      -0.1480  -0.083267   \n",
      "5991984    [31.79]       0.9146      -0.0174      -0.1506  -0.082901   \n",
      "5991985    [31.79]       0.9166      -0.0154      -0.1528  -0.081024   \n",
      "5991986    [31.79]       0.9170      -0.0158      -0.1516  -0.071503   \n",
      "5991987    [31.79]       0.9154      -0.0148      -0.1512  -0.063034   \n",
      "5991988    [31.79]       0.9128      -0.0130      -0.1484  -0.057907   \n",
      "5991989    [31.79]       0.9146      -0.0142      -0.1454  -0.056213   \n",
      "5991990    [31.79]       0.9166      -0.0162      -0.1448  -0.053284   \n",
      "5991991    [31.79]       0.9140      -0.0130      -0.1434  -0.052917   \n",
      "5991992    [31.79]       0.9144      -0.0134      -0.1416  -0.055206   \n",
      "5991993    [31.79]       0.9138      -0.0120      -0.1446  -0.055756   \n",
      "5991994    [31.79]       0.9166      -0.0122      -0.1480  -0.052963   \n",
      "5991995    [31.79]       0.9192      -0.0136      -0.1506  -0.049210   \n",
      "5991996    [31.79]       0.9186      -0.0126      -0.1478  -0.049301   \n",
      "5991997    [31.79]       0.9176      -0.0102      -0.1440  -0.055527   \n",
      "5991998    [31.79]       0.9160      -0.0076      -0.1490  -0.055664   \n",
      "5991999    [31.79]       0.9162      -0.0074      -0.1474  -0.049759   \n",
      "\n",
      "         chest_resp  \n",
      "0          0.384521  \n",
      "1          0.404358  \n",
      "2          0.428772  \n",
      "3          0.477600  \n",
      "4          0.459290  \n",
      "5          0.498962  \n",
      "6          0.531006  \n",
      "7          0.535583  \n",
      "8          0.547791  \n",
      "9          0.563049  \n",
      "10         0.584412  \n",
      "11         0.605774  \n",
      "12         0.640869  \n",
      "13         0.646973  \n",
      "14         0.669861  \n",
      "15         0.685120  \n",
      "16         0.737000  \n",
      "17         0.747681  \n",
      "18         0.758362  \n",
      "19         0.779724  \n",
      "20         0.811768  \n",
      "21         0.813293  \n",
      "22         0.831604  \n",
      "23         0.865173  \n",
      "24         0.909424  \n",
      "25         0.895691  \n",
      "26         0.904846  \n",
      "27         0.935364  \n",
      "28         0.950623  \n",
      "29         0.999451  \n",
      "...             ...  \n",
      "5991970    0.584412  \n",
      "5991971    0.569153  \n",
      "5991972    0.541687  \n",
      "5991973    0.547791  \n",
      "5991974    0.559998  \n",
      "5991975    0.547791  \n",
      "5991976    0.514221  \n",
      "5991977    0.517273  \n",
      "5991978    0.543213  \n",
      "5991979    0.517273  \n",
      "5991980    0.505066  \n",
      "5991981    0.509644  \n",
      "5991982    0.495911  \n",
      "5991983    0.483704  \n",
      "5991984    0.425720  \n",
      "5991985    0.497437  \n",
      "5991986    0.469971  \n",
      "5991987    0.483704  \n",
      "5991988    0.448608  \n",
      "5991989    0.445557  \n",
      "5991990    0.447083  \n",
      "5991991    0.465393  \n",
      "5991992    0.422668  \n",
      "5991993    0.437927  \n",
      "5991994    0.433350  \n",
      "5991995    0.410461  \n",
      "5991996    0.386047  \n",
      "5991997    0.416565  \n",
      "5991998    0.401306  \n",
      "5991999    0.389099  \n",
      "\n",
      "[5992000 rows x 19 columns]\n"
     ]
    }
   ],
   "source": [
    "print(frame_8.reset_index())"
   ]
  },
  {
   "cell_type": "code",
   "execution_count": 27,
   "metadata": {},
   "outputs": [
    {
     "data": {
      "text/plain": [
       "<matplotlib.axes._subplots.AxesSubplot at 0x1c699f6be10>"
      ]
     },
     "execution_count": 27,
     "metadata": {},
     "output_type": "execute_result"
    },
    {
     "data": {
      "image/png": "[encoded data removed]",
      "text/plain": [
       "<Figure size 432x288 with 1 Axes>"
      ]
     },
     "metadata": {
      "needs_background": "light"
     },
     "output_type": "display_data"
    }
   ],
   "source": [
    "frame_8['activity'].plot.line()"
   ]
  },
  {
   "cell_type": "code",
   "execution_count": 42,
   "metadata": {},
   "outputs": [
    {
     "data": {
      "text/plain": [
       "<matplotlib.axes._subplots.AxesSubplot at 0x1c69a1d10f0>"
      ]
     },
     "execution_count": 42,
     "metadata": {},
     "output_type": "execute_result"
    },
    {
     "data": {
      "image/png": "[encoded data removed]",
      "text/plain": [
       "<Figure size 432x288 with 1 Axes>"
      ]
     },
     "metadata": {
      "needs_background": "light"
     },
     "output_type": "display_data"
    }
   ],
   "source": [
    "frame_8['chest_ecg'].iloc[0:10000].plot.line()"
   ]
  },
  {
   "cell_type": "code",
   "execution_count": 45,
   "metadata": {},
   "outputs": [
    {
     "data": {
      "text/plain": [
       "<matplotlib.axes._subplots.AxesSubplot at 0x1c69a30f438>"
      ]
     },
     "execution_count": 45,
     "metadata": {},
     "output_type": "execute_result"
    },
    {
     "data": {
      "image/png": "[encoded data removed]",
      "text/plain": [
       "<Figure size 432x288 with 1 Axes>"
      ]
     },
     "metadata": {
      "needs_background": "light"
     },
     "output_type": "display_data"
    }
   ],
   "source": [
    "frame_8.reset_index().plot(x='index', y=['activity','chest_ecg'])"
   ]
  },
  {
   "cell_type": "code",
   "execution_count": 46,
   "metadata": {},
   "outputs": [
    {
     "data": {
      "text/plain": [
       "<matplotlib.axes._subplots.AxesSubplot at 0x1c69a34fc88>"
      ]
     },
     "execution_count": 46,
     "metadata": {},
     "output_type": "execute_result"
    },
    {
     "data": {
      "image/png": "[encoded data removed]",
      "text/plain": [
       "<Figure size 432x288 with 1 Axes>"
      ]
     },
     "metadata": {
      "needs_background": "light"
     },
     "output_type": "display_data"
    }
   ],
   "source": [
    "frame_8.reset_index().plot(x='index', y=['activity','chest_resp'])"
   ]
  }
 ],
 "metadata": {
  "kernelspec": {
   "display_name": "Python 3",
   "language": "python",
   "name": "python3"
  },
  "language_info": {
   "codemirror_mode": {
    "name": "ipython",
    "version": 3
   },
   "file_extension": ".py",
   "mimetype": "text/x-python",
   "name": "python",
   "nbconvert_exporter": "python",
   "pygments_lexer": "ipython3",
   "version": "3.7.3"
  }
 },
 "nbformat": 4,
 "nbformat_minor": 2
}
