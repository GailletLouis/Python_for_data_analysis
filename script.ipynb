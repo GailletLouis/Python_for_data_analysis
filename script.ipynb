{
 "cells": [
  {
   "cell_type": "code",
   "execution_count": 158,
   "metadata": {},
   "outputs": [],
   "source": [
    "import pandas as pd\n",
    "import pickle as pkl\n",
    "import numpy as np"
   ]
  },
  {
   "cell_type": "markdown",
   "metadata": {},
   "source": [
    "# Global variables"
   ]
  },
  {
   "cell_type": "code",
   "execution_count": 2,
   "metadata": {},
   "outputs": [],
   "source": [
    "data_folder_name = 'PPG_FieldStudy'"
   ]
  },
  {
   "cell_type": "markdown",
   "metadata": {},
   "source": [
    "# Functions"
   ]
  },
  {
   "cell_type": "code",
   "execution_count": 3,
   "metadata": {},
   "outputs": [],
   "source": [
    "def get_script_dir_path():\n",
    "    script_dir_path = %pwd \n",
    "    script_dir_path += '\\\\'\n",
    "    return script_dir_path"
   ]
  },
  {
   "cell_type": "code",
   "execution_count": 79,
   "metadata": {},
   "outputs": [],
   "source": [
    "def standardize_to_700hz(sensor_values, frequency):\n",
    "    sensor_values_700hz = []\n",
    "    ratio = 700/frequency\n",
    "    new_len = int(len(sensor_values) * ratio) # len of the standardized list\n",
    "    row_index = 0\n",
    "    for i in range(new_len):\n",
    "        sensor_values_700hz.append(sensor_values[int(i/ratio)])\n",
    "        row_index += 1\n",
    "    return sensor_values_700hz"
   ]
  },
  {
   "cell_type": "code",
   "execution_count": 105,
   "metadata": {},
   "outputs": [],
   "source": [
    "def multiply_in_list(value, nb):\n",
    "    new_list = []\n",
    "    for i in range(nb):\n",
    "        new_list.append(value)\n",
    "    return new_list"
   ]
  },
  {
   "cell_type": "markdown",
   "metadata": {},
   "source": [
    "# 1) Data preparation"
   ]
  },
  {
   "cell_type": "markdown",
   "metadata": {},
   "source": [
    "## 1.1) Create paths to data"
   ]
  },
  {
   "cell_type": "code",
   "execution_count": 4,
   "metadata": {},
   "outputs": [
    {
     "name": "stdout",
     "output_type": "stream",
     "text": [
      "C:\\Users\\Louis\\python_scripts\\final_project\\python_for_data_analysis\\\n"
     ]
    }
   ],
   "source": [
    "script_dir_path = get_script_dir_path()\n",
    "print(script_dir_path)"
   ]
  },
  {
   "cell_type": "code",
   "execution_count": 5,
   "metadata": {},
   "outputs": [
    {
     "name": "stdout",
     "output_type": "stream",
     "text": [
      "C:\\Users\\Louis\\python_scripts\\final_project\\python_for_data_analysis\\PPG_FieldStudy\\\n"
     ]
    }
   ],
   "source": [
    "data_folder_path = script_dir_path + data_folder_name + '\\\\'\n",
    "print(data_folder_path)"
   ]
  },
  {
   "cell_type": "code",
   "execution_count": 14,
   "metadata": {},
   "outputs": [
    {
     "name": "stdout",
     "output_type": "stream",
     "text": [
      "C:\\Users\\Louis\\python_scripts\\final_project\\python_for_data_analysis\\PPG_FieldStudy\\S1\\S1.pkl\n",
      "C:\\Users\\Louis\\python_scripts\\final_project\\python_for_data_analysis\\PPG_FieldStudy\\S2\\S2.pkl\n",
      "C:\\Users\\Louis\\python_scripts\\final_project\\python_for_data_analysis\\PPG_FieldStudy\\S3\\S3.pkl\n",
      "C:\\Users\\Louis\\python_scripts\\final_project\\python_for_data_analysis\\PPG_FieldStudy\\S4\\S4.pkl\n",
      "C:\\Users\\Louis\\python_scripts\\final_project\\python_for_data_analysis\\PPG_FieldStudy\\S5\\S5.pkl\n",
      "C:\\Users\\Louis\\python_scripts\\final_project\\python_for_data_analysis\\PPG_FieldStudy\\S6\\S6.pkl\n",
      "C:\\Users\\Louis\\python_scripts\\final_project\\python_for_data_analysis\\PPG_FieldStudy\\S7\\S7.pkl\n",
      "C:\\Users\\Louis\\python_scripts\\final_project\\python_for_data_analysis\\PPG_FieldStudy\\S8\\S8.pkl\n",
      "C:\\Users\\Louis\\python_scripts\\final_project\\python_for_data_analysis\\PPG_FieldStudy\\S9\\S9.pkl\n",
      "C:\\Users\\Louis\\python_scripts\\final_project\\python_for_data_analysis\\PPG_FieldStudy\\S10\\S10.pkl\n",
      "C:\\Users\\Louis\\python_scripts\\final_project\\python_for_data_analysis\\PPG_FieldStudy\\S11\\S11.pkl\n",
      "C:\\Users\\Louis\\python_scripts\\final_project\\python_for_data_analysis\\PPG_FieldStudy\\S12\\S12.pkl\n",
      "C:\\Users\\Louis\\python_scripts\\final_project\\python_for_data_analysis\\PPG_FieldStudy\\S13\\S13.pkl\n",
      "C:\\Users\\Louis\\python_scripts\\final_project\\python_for_data_analysis\\PPG_FieldStudy\\S14\\S14.pkl\n",
      "C:\\Users\\Louis\\python_scripts\\final_project\\python_for_data_analysis\\PPG_FieldStudy\\S15\\S15.pkl\n"
     ]
    }
   ],
   "source": [
    "# Creating path to pkl file for each subject & saving pkl data in list\n",
    "pkl_path_template = \"S{}\\\\S{}.pkl\"\n",
    "pkl_pd_list = []\n",
    "\n",
    "for i in range(15):\n",
    "    path = data_folder_path + pkl_path_template.format(i+1,i+1)\n",
    "    print(path)\n",
    "    pkl_pd_list.append(pd.read_pickle(path))"
   ]
  },
  {
   "cell_type": "markdown",
   "metadata": {},
   "source": [
    "## 1.2) Create pandas dataframe from data"
   ]
  },
  {
   "cell_type": "code",
   "execution_count": 163,
   "metadata": {},
   "outputs": [
    {
     "name": "stdout",
     "output_type": "stream",
     "text": [
      "len wrist_ACC : 294784\n",
      "len wrist_BVP : 589568\n",
      "len wrist_EDA : 36848\n",
      "len wrist_TEMP : 36848\n",
      "\n",
      "len chest_ACC : 6448400\n",
      "len chest_ECG : 6448400\n",
      "len chest_resp : 6448400\n",
      "\n",
      "new len wrist_ACC 700hz : 6448400\n",
      "new len wrist_BVP 700hz : 6448400\n",
      "new len wrist_EDA 700hz : 6448400\n",
      "new len wrist_TEMP 700hz : 6448400\n",
      "\n",
      "len activity : 36848\n",
      "new len activity : 6448400\n",
      "\n",
      "age : 34\n",
      "gender :  m\n",
      "height : 182.0\n",
      "weight : 78.0\n",
      "skin : 3\n",
      "sport : 6\n",
      "new gender value : 0\n",
      "[-0.765625 -0.078125  0.671875]\n",
      "[7.28]\n",
      "[4.722437]\n",
      "[32.13]\n",
      "\n",
      "[ 0.85640001 -0.06779999 -0.36559999]\n",
      "[0.01560974]\n",
      "[4.4418335]\n"
     ]
    }
   ],
   "source": [
    "#def create_pd_dataframe(pkl_data):\n",
    "pkl_data = pkl_pd_list[0]\n",
    "if True:\n",
    "    # Capteur Empatica E4\n",
    "    wrist_ACC = pkl_data['signal']['wrist']['ACC'] # 32 Hz\n",
    "    wrist_BVP = pkl_data['signal']['wrist']['BVP'] # 64 Hz\n",
    "    wrist_EDA = pkl_data['signal']['wrist']['EDA'] # 4 Hz\n",
    "    wrist_TEMP = pkl_data['signal']['wrist']['TEMP'] # 4 Hz\n",
    "\n",
    "    # Capteur RespiBAN\n",
    "    chest_ACC = pkl_data['signal']['chest']['ACC'] # 700 Hz\n",
    "    chest_ECG = pkl_data['signal']['chest']['ECG'] # 700 Hz\n",
    "    chest_resp = pkl_data['signal']['chest']['Resp'] # 700 Hz\n",
    "    \n",
    "    # extract x, y, z values\n",
    "    chest_ACC_x = np.array(chest_ACC)[:,0]\n",
    "    chest_ACC_y = np.array(chest_ACC)[:,1]\n",
    "    chest_ACC_z = np.array(chest_ACC)[:,2]\n",
    "\n",
    "    print('len wrist_ACC : ' + str(len(wrist_ACC)))\n",
    "    print('len wrist_BVP : ' + str(len(wrist_BVP)))\n",
    "    print('len wrist_EDA : ' + str(len(wrist_EDA)))\n",
    "    print('len wrist_TEMP : ' + str(len(wrist_TEMP)))\n",
    "    print()\n",
    "    print('len chest_ACC : ' + str(len(chest_ACC)))\n",
    "    print('len chest_ECG : ' + str(len(chest_ECG)))\n",
    "    print('len chest_resp : ' + str(len(chest_resp)))\n",
    "    print()\n",
    "\n",
    "\n",
    "    # Standardize every values from empatica E4 sensor to 700hz format\n",
    "    wrist_ACC_700hz = standardize_to_700hz(wrist_ACC, 32)\n",
    "    wrist_BVP_700hz = standardize_to_700hz(wrist_BVP, 64)\n",
    "    wrist_EDA_700hz = standardize_to_700hz(wrist_EDA, 4)\n",
    "    wrist_TEMP_700hz = standardize_to_700hz(wrist_TEMP, 4)\n",
    "    \n",
    "    # extract x, y, z values\n",
    "    wrist_ACC_x = np.array(wrist_ACC_700hz)[:,0]\n",
    "    wrist_ACC_y = np.array(wrist_ACC_700hz)[:,1]\n",
    "    wrist_ACC_z = np.array(wrist_ACC_700hz)[:,2]\n",
    "\n",
    "    print('new len wrist_ACC 700hz : ' + str(len(wrist_ACC_700hz)))\n",
    "    print('new len wrist_BVP 700hz : ' + str(len(wrist_BVP_700hz)))\n",
    "    print('new len wrist_EDA 700hz : ' + str(len(wrist_EDA_700hz)))\n",
    "    print('new len wrist_TEMP 700hz : ' + str(len(wrist_TEMP_700hz)))\n",
    "    print()\n",
    "\n",
    "    # Activity\n",
    "    activity = pkl_data['activity']\n",
    "    print('len activity : ' + str(len(activity)))\n",
    "\n",
    "    # Standardize activity values to 700hz format\n",
    "    activity_700hz = standardize_to_700hz(activity, 4)\n",
    "    print('new len activity : ' + str(len(activity_700hz)))\n",
    "    print()\n",
    "\n",
    "    # subjects infos\n",
    "    age = pkl_data['questionnaire']['AGE']\n",
    "    gender = pkl_data['questionnaire']['Gender']\n",
    "    height = pkl_data['questionnaire']['HEIGHT']\n",
    "    weight = pkl_data['questionnaire']['WEIGHT']\n",
    "    skin = pkl_data['questionnaire']['SKIN']\n",
    "    sport = pkl_data['questionnaire']['SPORT']\n",
    "\n",
    "    print('age : ' + str(age))\n",
    "    print('gender : ' + gender)\n",
    "    print('height : ' + str(height))\n",
    "    print('weight : ' + str(weight))\n",
    "    print('skin : ' + str(skin))\n",
    "    print('sport : ' + str(sport))\n",
    "    \n",
    "    # replace gender per a number\n",
    "    if (gender == ' m'):\n",
    "        gender = 0\n",
    "    else:\n",
    "        gender = 1    \n",
    "    print('new gender value : ' + str(gender))\n",
    "    \n",
    "    # create lists for subjects infos by just multiplying value by len(chest_resp)\n",
    "    target_len = len(chest_resp)\n",
    "    \n",
    "    age_list = multiply_in_list(age, target_len)\n",
    "    gender_list = multiply_in_list(gender, target_len)\n",
    "    height_list = multiply_in_list(height, target_len)\n",
    "    weight_list = multiply_in_list(weight, target_len)\n",
    "    skin_list = multiply_in_list(skin, target_len)\n",
    "    sport_list = multiply_in_list(sport, target_len)\n",
    "\n",
    "    \n",
    "    # Create dataframe\n",
    "    data = {'age':age_list, \\\n",
    "            'gender':gender_list, \\\n",
    "            'height':height_list, \\\n",
    "            'weight':weight_list, \\\n",
    "            'skin':skin_list, \\\n",
    "            'sport':sport_list\n",
    "           }\n",
    "    \n",
    "    pd_data = pd.DataFrame(data)\n",
    "    \n",
    "    #return pd_data\n"
   ]
  },
  {
   "cell_type": "code",
   "execution_count": 162,
   "metadata": {},
   "outputs": [
    {
     "name": "stdout",
     "output_type": "stream",
     "text": [
      "<class 'numpy.ndarray'>\n",
      "6448400\n"
     ]
    }
   ],
   "source": [
    "print(type(wrist_ACC))\n",
    "print(len(np.array(wrist_ACC_700hz)[:,0]))"
   ]
  },
  {
   "cell_type": "code",
   "execution_count": 144,
   "metadata": {},
   "outputs": [
    {
     "name": "stdout",
     "output_type": "stream",
     "text": [
      "len wrist_ACC : 262560\n",
      "len wrist_BVP : 525120\n",
      "len wrist_EDA : 32820\n",
      "len wrist_TEMP : 32820\n",
      "\n",
      "len chest_ACC : 5743500\n",
      "len chest_ECG : 5743500\n",
      "len chest_resp : 5743500\n",
      "\n",
      "new len wrist_ACC 700hz : 5743500\n",
      "new len wrist_BVP 700hz : 5743500\n",
      "new len wrist_EDA 700hz : 5743500\n",
      "new len wrist_TEMP 700hz : 5743500\n",
      "\n",
      "len activity : 32820\n",
      "new len activity : 5743500\n",
      "\n",
      "age : 28\n",
      "gender :  m\n",
      "height : 189.0\n",
      "weight : 80.0\n",
      "skin : 3\n",
      "sport : 5\n",
      "new gender value : 0\n",
      "[-0.5625    0.046875  0.84375 ]\n",
      "[-4.36]\n",
      "[0.267766]\n",
      "[31.67]\n",
      "\n",
      "[0.91139996 0.03219998 0.051     ]\n",
      "[-0.02503967]\n",
      "[-3.0380249]\n"
     ]
    }
   ],
   "source": [
    "dataframe = create_pd_dataframe(pkl_pd_list[1])\n"
   ]
  },
  {
   "cell_type": "code",
   "execution_count": 138,
   "metadata": {},
   "outputs": [
    {
     "name": "stdout",
     "output_type": "stream",
     "text": [
      "[-0.765625 -0.078125  0.671875]\n"
     ]
    },
    {
     "ename": "NameError",
     "evalue": "name 'wrist_ECG' is not defined",
     "output_type": "error",
     "traceback": [
      "\u001b[1;31m---------------------------------------------------------------------------\u001b[0m",
      "\u001b[1;31mNameError\u001b[0m                                 Traceback (most recent call last)",
      "\u001b[1;32m<ipython-input-138-b1dfc017f974>\u001b[0m in \u001b[0;36m<module>\u001b[1;34m\u001b[0m\n\u001b[0;32m      1\u001b[0m \u001b[0mprint\u001b[0m\u001b[1;33m(\u001b[0m\u001b[0mwrist_ACC\u001b[0m\u001b[1;33m[\u001b[0m\u001b[1;36m0\u001b[0m\u001b[1;33m]\u001b[0m\u001b[1;33m)\u001b[0m\u001b[1;33m\u001b[0m\u001b[1;33m\u001b[0m\u001b[0m\n\u001b[1;32m----> 2\u001b[1;33m \u001b[0mprint\u001b[0m\u001b[1;33m(\u001b[0m\u001b[0mwrist_ECG\u001b[0m\u001b[1;33m[\u001b[0m\u001b[1;36m0\u001b[0m\u001b[1;33m]\u001b[0m\u001b[1;33m)\u001b[0m\u001b[1;33m\u001b[0m\u001b[1;33m\u001b[0m\u001b[0m\n\u001b[0m\u001b[0;32m      3\u001b[0m \u001b[0mprint\u001b[0m\u001b[1;33m(\u001b[0m\u001b[0mwrist_EDA\u001b[0m\u001b[1;33m[\u001b[0m\u001b[1;36m0\u001b[0m\u001b[1;33m]\u001b[0m\u001b[1;33m)\u001b[0m\u001b[1;33m\u001b[0m\u001b[1;33m\u001b[0m\u001b[0m\n\u001b[0;32m      4\u001b[0m \u001b[0mprint\u001b[0m\u001b[1;33m(\u001b[0m\u001b[0mwrist_TEMP\u001b[0m\u001b[1;33m[\u001b[0m\u001b[1;36m0\u001b[0m\u001b[1;33m]\u001b[0m\u001b[1;33m)\u001b[0m\u001b[1;33m\u001b[0m\u001b[1;33m\u001b[0m\u001b[0m\n",
      "\u001b[1;31mNameError\u001b[0m: name 'wrist_ECG' is not defined"
     ]
    }
   ],
   "source": [
    "\n"
   ]
  }
 ],
 "metadata": {
  "kernelspec": {
   "display_name": "Python 3",
   "language": "python",
   "name": "python3"
  },
  "language_info": {
   "codemirror_mode": {
    "name": "ipython",
    "version": 3
   },
   "file_extension": ".py",
   "mimetype": "text/x-python",
   "name": "python",
   "nbconvert_exporter": "python",
   "pygments_lexer": "ipython3",
   "version": "3.7.3"
  }
 },
 "nbformat": 4,
 "nbformat_minor": 2
}
