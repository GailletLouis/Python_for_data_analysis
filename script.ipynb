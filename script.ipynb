{
 "cells": [
  {
   "cell_type": "code",
   "execution_count": 6,
   "metadata": {},
   "outputs": [],
   "source": [
    "import pandas as pd\n",
    "import pickle as pkl"
   ]
  },
  {
   "cell_type": "markdown",
   "metadata": {},
   "source": [
    "# Global variables"
   ]
  },
  {
   "cell_type": "code",
   "execution_count": 1,
   "metadata": {},
   "outputs": [],
   "source": [
    "data_folder_name = 'PPG_FieldStudy'"
   ]
  },
  {
   "cell_type": "markdown",
   "metadata": {},
   "source": [
    "# Functions"
   ]
  },
  {
   "cell_type": "code",
   "execution_count": 2,
   "metadata": {},
   "outputs": [],
   "source": [
    "def get_script_dir_path():\n",
    "    script_dir_path = %pwd \n",
    "    script_dir_path += '\\\\'\n",
    "    return script_dir_path"
   ]
  },
  {
   "cell_type": "markdown",
   "metadata": {},
   "source": [
    "# 1) Data preparation"
   ]
  },
  {
   "cell_type": "code",
   "execution_count": 3,
   "metadata": {},
   "outputs": [
    {
     "name": "stdout",
     "output_type": "stream",
     "text": [
      "C:\\Users\\Louis\\python_scripts\\final_project\\python_for_data_analysis\\\n"
     ]
    }
   ],
   "source": [
    "script_dir_path = get_script_dir_path()\n",
    "print(script_dir_path)"
   ]
  },
  {
   "cell_type": "code",
   "execution_count": 9,
   "metadata": {},
   "outputs": [
    {
     "name": "stdout",
     "output_type": "stream",
     "text": [
      "C:\\Users\\Louis\\python_scripts\\final_project\\python_for_data_analysis\\PPG_FieldStudy\\\n"
     ]
    }
   ],
   "source": [
    "data_folder_path = script_dir_path + data_folder_name + '\\\\'\n",
    "print(data_folder_path)"
   ]
  },
  {
   "cell_type": "code",
   "execution_count": 17,
   "metadata": {},
   "outputs": [
    {
     "name": "stdout",
     "output_type": "stream",
     "text": [
      "S1\\S1.pkl\n",
      "S2\\S2.pkl\n",
      "S3\\S3.pkl\n",
      "S4\\S4.pkl\n",
      "S5\\S5.pkl\n",
      "S6\\S6.pkl\n",
      "S7\\S7.pkl\n",
      "S8\\S8.pkl\n",
      "S9\\S9.pkl\n",
      "S10\\S10.pkl\n",
      "S11\\S11.pkl\n",
      "S12\\S12.pkl\n",
      "S13\\S13.pkl\n",
      "S14\\S14.pkl\n",
      "S15\\S15.pkl\n"
     ]
    }
   ],
   "source": [
    "# Creating path to pkl file for each subject\n",
    "pkl_path_template = \"S{}\\\\S{}.pkl\"\n",
    "pkl_list = []\n",
    "for i in range(15):\n",
    "    pkl_list.append(pkl_path_template.format(i+1,i+1))\n",
    "    print(pkl_list[i])"
   ]
  }
 ],
 "metadata": {
  "kernelspec": {
   "display_name": "Python 3",
   "language": "python",
   "name": "python3"
  },
  "language_info": {
   "codemirror_mode": {
    "name": "ipython",
    "version": 3
   },
   "file_extension": ".py",
   "mimetype": "text/x-python",
   "name": "python",
   "nbconvert_exporter": "python",
   "pygments_lexer": "ipython3",
   "version": "3.7.3"
  }
 },
 "nbformat": 4,
 "nbformat_minor": 2
}
