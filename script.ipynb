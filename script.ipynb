{
 "cells": [
  {
   "cell_type": "code",
   "execution_count": 1,
   "metadata": {},
   "outputs": [],
   "source": [
    "import pandas as pd\n",
    "import pickle as pkl"
   ]
  },
  {
   "cell_type": "markdown",
   "metadata": {},
   "source": [
    "# Global variables"
   ]
  },
  {
   "cell_type": "code",
   "execution_count": 2,
   "metadata": {},
   "outputs": [],
   "source": [
    "data_folder_name = 'PPG_FieldStudy'"
   ]
  },
  {
   "cell_type": "markdown",
   "metadata": {},
   "source": [
    "# Functions"
   ]
  },
  {
   "cell_type": "code",
   "execution_count": 3,
   "metadata": {},
   "outputs": [],
   "source": [
    "def get_script_dir_path():\n",
    "    script_dir_path = %pwd \n",
    "    script_dir_path += '\\\\'\n",
    "    return script_dir_path"
   ]
  },
  {
   "cell_type": "code",
   "execution_count": 79,
   "metadata": {},
   "outputs": [],
   "source": [
    "def standardize_to_700hz(sensor_values, frequency):\n",
    "    sensor_values_700hz = []\n",
    "    ratio = 700/frequency\n",
    "    new_len = int(len(sensor_values) * ratio) # len of the standardized list\n",
    "    row_index = 0\n",
    "    for i in range(new_len):\n",
    "        sensor_values_700hz.append(sensor_values[int(i/ratio)])\n",
    "        row_index += 1\n",
    "    return sensor_values_700hz"
   ]
  },
  {
   "cell_type": "code",
   "execution_count": 105,
   "metadata": {},
   "outputs": [],
   "source": [
    "def multiply_in_list(value, nb):\n",
    "    new_list = []\n",
    "    for i in range(nb):\n",
    "        new_list.append(value)\n",
    "    return new_list"
   ]
  },
  {
   "cell_type": "markdown",
   "metadata": {},
   "source": [
    "# 1) Data preparation"
   ]
  },
  {
   "cell_type": "markdown",
   "metadata": {},
   "source": [
    "## 1.1) Create paths to data"
   ]
  },
  {
   "cell_type": "code",
   "execution_count": 4,
   "metadata": {},
   "outputs": [
    {
     "name": "stdout",
     "output_type": "stream",
     "text": [
      "C:\\Users\\Louis\\python_scripts\\final_project\\python_for_data_analysis\\\n"
     ]
    }
   ],
   "source": [
    "script_dir_path = get_script_dir_path()\n",
    "print(script_dir_path)"
   ]
  },
  {
   "cell_type": "code",
   "execution_count": 5,
   "metadata": {},
   "outputs": [
    {
     "name": "stdout",
     "output_type": "stream",
     "text": [
      "C:\\Users\\Louis\\python_scripts\\final_project\\python_for_data_analysis\\PPG_FieldStudy\\\n"
     ]
    }
   ],
   "source": [
    "data_folder_path = script_dir_path + data_folder_name + '\\\\'\n",
    "print(data_folder_path)"
   ]
  },
  {
   "cell_type": "code",
   "execution_count": 14,
   "metadata": {},
   "outputs": [
    {
     "name": "stdout",
     "output_type": "stream",
     "text": [
      "C:\\Users\\Louis\\python_scripts\\final_project\\python_for_data_analysis\\PPG_FieldStudy\\S1\\S1.pkl\n",
      "C:\\Users\\Louis\\python_scripts\\final_project\\python_for_data_analysis\\PPG_FieldStudy\\S2\\S2.pkl\n",
      "C:\\Users\\Louis\\python_scripts\\final_project\\python_for_data_analysis\\PPG_FieldStudy\\S3\\S3.pkl\n",
      "C:\\Users\\Louis\\python_scripts\\final_project\\python_for_data_analysis\\PPG_FieldStudy\\S4\\S4.pkl\n",
      "C:\\Users\\Louis\\python_scripts\\final_project\\python_for_data_analysis\\PPG_FieldStudy\\S5\\S5.pkl\n",
      "C:\\Users\\Louis\\python_scripts\\final_project\\python_for_data_analysis\\PPG_FieldStudy\\S6\\S6.pkl\n",
      "C:\\Users\\Louis\\python_scripts\\final_project\\python_for_data_analysis\\PPG_FieldStudy\\S7\\S7.pkl\n",
      "C:\\Users\\Louis\\python_scripts\\final_project\\python_for_data_analysis\\PPG_FieldStudy\\S8\\S8.pkl\n",
      "C:\\Users\\Louis\\python_scripts\\final_project\\python_for_data_analysis\\PPG_FieldStudy\\S9\\S9.pkl\n",
      "C:\\Users\\Louis\\python_scripts\\final_project\\python_for_data_analysis\\PPG_FieldStudy\\S10\\S10.pkl\n",
      "C:\\Users\\Louis\\python_scripts\\final_project\\python_for_data_analysis\\PPG_FieldStudy\\S11\\S11.pkl\n",
      "C:\\Users\\Louis\\python_scripts\\final_project\\python_for_data_analysis\\PPG_FieldStudy\\S12\\S12.pkl\n",
      "C:\\Users\\Louis\\python_scripts\\final_project\\python_for_data_analysis\\PPG_FieldStudy\\S13\\S13.pkl\n",
      "C:\\Users\\Louis\\python_scripts\\final_project\\python_for_data_analysis\\PPG_FieldStudy\\S14\\S14.pkl\n",
      "C:\\Users\\Louis\\python_scripts\\final_project\\python_for_data_analysis\\PPG_FieldStudy\\S15\\S15.pkl\n"
     ]
    }
   ],
   "source": [
    "# Creating path to pkl file for each subject & saving pkl data in list\n",
    "pkl_path_template = \"S{}\\\\S{}.pkl\"\n",
    "pkl_pd_list = []\n",
    "\n",
    "for i in range(15):\n",
    "    path = data_folder_path + pkl_path_template.format(i+1,i+1)\n",
    "    print(path)\n",
    "    pkl_pd_list.append(pd.read_pickle(path))"
   ]
  },
  {
   "cell_type": "markdown",
   "metadata": {},
   "source": [
    "## 1.2) Create pandas dataframe from data"
   ]
  },
  {
   "cell_type": "code",
   "execution_count": 119,
   "metadata": {},
   "outputs": [],
   "source": [
    "def create_pd_dataframe(pkl_data):\n",
    "    # Capteur Empatica E4\n",
    "    wrist_ACC = pkl_data['signal']['wrist']['ACC'] # 32 Hz\n",
    "    wrist_BVP = pkl_data['signal']['wrist']['BVP'] # 64 Hz\n",
    "    wrist_EDA = pkl_data['signal']['wrist']['EDA'] # 4 Hz\n",
    "    wrist_TEMP = pkl_data['signal']['wrist']['TEMP'] # 4 Hz\n",
    "\n",
    "    # Capteur RespiBAN\n",
    "    chest_ACC = pkl_data['signal']['chest']['ACC'] # 700 Hz\n",
    "    chest_ECG = pkl_data['signal']['chest']['ECG'] # 700 Hz\n",
    "    chest_resp = pkl_data['signal']['chest']['Resp'] # 700 Hz\n",
    "\n",
    "    print('len wrist_ACC : ' + str(len(wrist_ACC)))\n",
    "    print('len wrist_BVP : ' + str(len(wrist_BVP)))\n",
    "    print('len wrist_EDA : ' + str(len(wrist_EDA)))\n",
    "    print('len wrist_TEMP : ' + str(len(wrist_TEMP)))\n",
    "    print()\n",
    "    print('len chest_ACC : ' + str(len(chest_ACC)))\n",
    "    print('len chest_ECG : ' + str(len(chest_ECG)))\n",
    "    print('len chest_resp : ' + str(len(chest_resp)))\n",
    "    print()\n",
    "\n",
    "\n",
    "    # Standardize every values from empatica E4 sensor to 700hz format\n",
    "    wrist_ACC_700hz = standardize_to_700hz(wrist_ACC, 32)\n",
    "    wrist_BVP_700hz = standardize_to_700hz(wrist_BVP, 64)\n",
    "    wrist_EDA_700hz = standardize_to_700hz(wrist_EDA, 4)\n",
    "    wrist_TEMP_700hz = standardize_to_700hz(wrist_TEMP, 4)\n",
    "\n",
    "    print('new len wrist_ACC 700hz : ' + str(len(wrist_ACC_700hz)))\n",
    "    print('new len wrist_BVP 700hz : ' + str(len(wrist_BVP_700hz)))\n",
    "    print('new len wrist_EDA 700hz : ' + str(len(wrist_EDA_700hz)))\n",
    "    print('new len wrist_TEMP 700hz : ' + str(len(wrist_TEMP_700hz)))\n",
    "    print()\n",
    "\n",
    "    # Activity\n",
    "    activity = pkl_data['activity']\n",
    "    print('len activity : ' + str(len(activity)))\n",
    "\n",
    "    # Standardize activity values to 700hz format\n",
    "    activity_700hz = standardize_to_700hz(activity, 4)\n",
    "    print('new len activity : ' + str(len(activity_700hz)))\n",
    "    print()\n",
    "\n",
    "    # subjects infos\n",
    "    age = pkl_data['questionnaire']['AGE']\n",
    "    gender = pkl_data['questionnaire']['Gender']\n",
    "    height = pkl_data['questionnaire']['HEIGHT']\n",
    "    weight = pkl_data['questionnaire']['WEIGHT']\n",
    "    skin = pkl_data['questionnaire']['SKIN']\n",
    "    sport = pkl_data['questionnaire']['SPORT']\n",
    "\n",
    "    print('age : ' + str(age))\n",
    "    print('gender : ' + gender)\n",
    "    print('height : ' + str(height))\n",
    "    print('weight : ' + str(weight))\n",
    "    print('skin : ' + str(skin))\n",
    "    print('sport : ' + str(sport))\n",
    "    \n",
    "    # replace gender per a number\n",
    "    if (gender == ' m'):\n",
    "        gender = 0\n",
    "    else:\n",
    "        gender = 1\n",
    "    \n",
    "    print('new gender value : ' + str(gender))\n",
    "    \n",
    "    # create lists for subjects infos by just multiplying value by len(chest_resp)\n",
    "    target_len = len(chest_resp)\n",
    "    \n",
    "    age_list = multiply_in_list(age, target_len)\n",
    "    gender_list = multiply_in_list(gender, target_len)\n",
    "    height_list = multiply_in_list(height, target_len)\n",
    "    weight_list = multiply_in_list(weight, target_len)\n",
    "    skin_list = multiply_in_list(skin, target_len)\n",
    "    sport_list = multiply_in_list(sport, target_len)\n",
    "\n",
    "    \n",
    "    # Create dataframe\n",
    "    \n",
    "    \n"
   ]
  },
  {
   "cell_type": "code",
   "execution_count": 121,
   "metadata": {},
   "outputs": [
    {
     "name": "stdout",
     "output_type": "stream",
     "text": [
      "len wrist_ACC : 262560\n",
      "len wrist_BVP : 525120\n",
      "len wrist_EDA : 32820\n",
      "len wrist_TEMP : 32820\n",
      "\n",
      "len chest_ACC : 5743500\n",
      "len chest_ECG : 5743500\n",
      "len chest_resp : 5743500\n",
      "\n",
      "new len wrist_ACC 700hz : 5743500\n",
      "new len wrist_BVP 700hz : 5743500\n",
      "new len wrist_EDA 700hz : 5743500\n",
      "new len wrist_TEMP 700hz : 5743500\n",
      "\n",
      "len activity : 32820\n",
      "new len activity : 5743500\n",
      "\n",
      "age : 28\n",
      "gender :  m\n",
      "height : 189.0\n",
      "weight : 80.0\n",
      "skin : 3\n",
      "sport : 5\n",
      "new gender value : 0\n"
     ]
    }
   ],
   "source": [
    "dataframe = create_pd_dataframe(pkl_pd_list[1])\n"
   ]
  },
  {
   "cell_type": "code",
   "execution_count": 112,
   "metadata": {},
   "outputs": [
    {
     "name": "stdout",
     "output_type": "stream",
     "text": [
      "6448400\n"
     ]
    }
   ],
   "source": [
    "new_list = multiply_in_list(age, len(chest_resp))"
   ]
  }
 ],
 "metadata": {
  "kernelspec": {
   "display_name": "Python 3",
   "language": "python",
   "name": "python3"
  },
  "language_info": {
   "codemirror_mode": {
    "name": "ipython",
    "version": 3
   },
   "file_extension": ".py",
   "mimetype": "text/x-python",
   "name": "python",
   "nbconvert_exporter": "python",
   "pygments_lexer": "ipython3",
   "version": "3.7.3"
  }
 },
 "nbformat": 4,
 "nbformat_minor": 2
}
