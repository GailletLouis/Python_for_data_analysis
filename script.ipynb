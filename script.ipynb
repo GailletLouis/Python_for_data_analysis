{
 "cells": [
  {
   "cell_type": "code",
   "execution_count": 1,
   "metadata": {},
   "outputs": [],
   "source": [
    "import pandas as pd\n",
    "import pickle as pkl"
   ]
  },
  {
   "cell_type": "markdown",
   "metadata": {},
   "source": [
    "# Global variables"
   ]
  },
  {
   "cell_type": "code",
   "execution_count": 2,
   "metadata": {},
   "outputs": [],
   "source": [
    "data_folder_name = 'PPG_FieldStudy'"
   ]
  },
  {
   "cell_type": "markdown",
   "metadata": {},
   "source": [
    "# Functions"
   ]
  },
  {
   "cell_type": "code",
   "execution_count": 3,
   "metadata": {},
   "outputs": [],
   "source": [
    "def get_script_dir_path():\n",
    "    script_dir_path = %pwd \n",
    "    script_dir_path += '\\\\'\n",
    "    return script_dir_path"
   ]
  },
  {
   "cell_type": "code",
   "execution_count": 79,
   "metadata": {},
   "outputs": [],
   "source": [
    "def standardize_to_700hz(sensor_values, frequency):\n",
    "    sensor_values_700hz = []\n",
    "    ratio = 700/frequency\n",
    "    new_len = int(len(sensor_values) * ratio) # len of the standardized list\n",
    "    row_index = 0\n",
    "    for i in range(new_len):\n",
    "        sensor_values_700hz.append(sensor_values[int(i/ratio)])\n",
    "        row_index += 1\n",
    "    return sensor_values_700hz"
   ]
  },
  {
   "cell_type": "markdown",
   "metadata": {},
   "source": [
    "# 1) Data preparation"
   ]
  },
  {
   "cell_type": "code",
   "execution_count": 4,
   "metadata": {},
   "outputs": [
    {
     "name": "stdout",
     "output_type": "stream",
     "text": [
      "C:\\Users\\Louis\\python_scripts\\final_project\\python_for_data_analysis\\\n"
     ]
    }
   ],
   "source": [
    "script_dir_path = get_script_dir_path()\n",
    "print(script_dir_path)"
   ]
  },
  {
   "cell_type": "code",
   "execution_count": 5,
   "metadata": {},
   "outputs": [
    {
     "name": "stdout",
     "output_type": "stream",
     "text": [
      "C:\\Users\\Louis\\python_scripts\\final_project\\python_for_data_analysis\\PPG_FieldStudy\\\n"
     ]
    }
   ],
   "source": [
    "data_folder_path = script_dir_path + data_folder_name + '\\\\'\n",
    "print(data_folder_path)"
   ]
  },
  {
   "cell_type": "code",
   "execution_count": 14,
   "metadata": {},
   "outputs": [
    {
     "name": "stdout",
     "output_type": "stream",
     "text": [
      "C:\\Users\\Louis\\python_scripts\\final_project\\python_for_data_analysis\\PPG_FieldStudy\\S1\\S1.pkl\n",
      "C:\\Users\\Louis\\python_scripts\\final_project\\python_for_data_analysis\\PPG_FieldStudy\\S2\\S2.pkl\n",
      "C:\\Users\\Louis\\python_scripts\\final_project\\python_for_data_analysis\\PPG_FieldStudy\\S3\\S3.pkl\n",
      "C:\\Users\\Louis\\python_scripts\\final_project\\python_for_data_analysis\\PPG_FieldStudy\\S4\\S4.pkl\n",
      "C:\\Users\\Louis\\python_scripts\\final_project\\python_for_data_analysis\\PPG_FieldStudy\\S5\\S5.pkl\n",
      "C:\\Users\\Louis\\python_scripts\\final_project\\python_for_data_analysis\\PPG_FieldStudy\\S6\\S6.pkl\n",
      "C:\\Users\\Louis\\python_scripts\\final_project\\python_for_data_analysis\\PPG_FieldStudy\\S7\\S7.pkl\n",
      "C:\\Users\\Louis\\python_scripts\\final_project\\python_for_data_analysis\\PPG_FieldStudy\\S8\\S8.pkl\n",
      "C:\\Users\\Louis\\python_scripts\\final_project\\python_for_data_analysis\\PPG_FieldStudy\\S9\\S9.pkl\n",
      "C:\\Users\\Louis\\python_scripts\\final_project\\python_for_data_analysis\\PPG_FieldStudy\\S10\\S10.pkl\n",
      "C:\\Users\\Louis\\python_scripts\\final_project\\python_for_data_analysis\\PPG_FieldStudy\\S11\\S11.pkl\n",
      "C:\\Users\\Louis\\python_scripts\\final_project\\python_for_data_analysis\\PPG_FieldStudy\\S12\\S12.pkl\n",
      "C:\\Users\\Louis\\python_scripts\\final_project\\python_for_data_analysis\\PPG_FieldStudy\\S13\\S13.pkl\n",
      "C:\\Users\\Louis\\python_scripts\\final_project\\python_for_data_analysis\\PPG_FieldStudy\\S14\\S14.pkl\n",
      "C:\\Users\\Louis\\python_scripts\\final_project\\python_for_data_analysis\\PPG_FieldStudy\\S15\\S15.pkl\n"
     ]
    }
   ],
   "source": [
    "# Creating path to pkl file for each subject\n",
    "pkl_path_template = \"S{}\\\\S{}.pkl\"\n",
    "pkl_pd_list = []\n",
    "for i in range(15):\n",
    "    path = data_folder_path + pkl_path_template.format(i+1,i+1)\n",
    "    print(path)\n",
    "    pkl_pd_list.append(pd.read_pickle(path))"
   ]
  },
  {
   "cell_type": "code",
   "execution_count": 16,
   "metadata": {},
   "outputs": [
    {
     "name": "stdout",
     "output_type": "stream",
     "text": [
      "[[ 0.85640001 -0.06779999 -0.36559999]\n",
      " [ 0.8556     -0.06900001 -0.3646    ]\n",
      " [ 0.852      -0.07020003 -0.3642    ]\n",
      " ...\n",
      " [ 0.88759995 -0.1038     -0.27920002]\n",
      " [ 0.88619995 -0.10159999 -0.27819997]\n",
      " [ 0.88680005 -0.10140002 -0.27380002]]\n"
     ]
    }
   ],
   "source": [
    "print(pkl_pd_list[0]['signal']['chest']['ACC'])"
   ]
  },
  {
   "cell_type": "code",
   "execution_count": 66,
   "metadata": {},
   "outputs": [
    {
     "name": "stdout",
     "output_type": "stream",
     "text": [
      "<class 'numpy.ndarray'>\n",
      "294784\n",
      "589568\n",
      "36848\n",
      "36848\n",
      "\n",
      "6448400\n",
      "6448400\n",
      "6448400\n"
     ]
    }
   ],
   "source": [
    "i = 0\n",
    "# Capteur Empatica E4\n",
    "wrist_ACC = pkl_pd_list[i]['signal']['wrist']['ACC'] # 32 Hz\n",
    "wrist_BVP = pkl_pd_list[i]['signal']['wrist']['BVP'] # 64 Hz\n",
    "wrist_EDA = pkl_pd_list[i]['signal']['wrist']['EDA'] # 4 Hz\n",
    "wrist_TEMP = pkl_pd_list[i]['signal']['wrist']['TEMP'] # 4 Hz\n",
    "\n",
    "# Capteur RespiBAN\n",
    "chest_ACC = pkl_pd_list[i]['signal']['chest']['ACC'] # 700 Hz\n",
    "chest_ECG = pkl_pd_list[i]['signal']['chest']['ECG'] # 700 Hz\n",
    "chest_resp = pkl_pd_list[i]['signal']['chest']['Resp'] # 700 Hz\n",
    "\n",
    "# Activity\n",
    "activity = pkl_pd_list[i]['activity']\n",
    "\n",
    "print(type(wrist_ACC))\n",
    "print(len(wrist_ACC))\n",
    "print(len(wrist_BVP))\n",
    "print(len(wrist_EDA))\n",
    "print(len(wrist_TEMP))\n",
    "print()\n",
    "print(len(chest_ACC))\n",
    "print(len(chest_ECG))\n",
    "print(len(chest_resp))"
   ]
  },
  {
   "cell_type": "code",
   "execution_count": 80,
   "metadata": {},
   "outputs": [
    {
     "name": "stdout",
     "output_type": "stream",
     "text": [
      "6448400\n"
     ]
    }
   ],
   "source": [
    "wrist_ACC_700hz = standardize_to_700hz(wrist_ACC, 32)\n",
    "print(len(wrist_ACC_700hz))"
   ]
  }
 ],
 "metadata": {
  "kernelspec": {
   "display_name": "Python 3",
   "language": "python",
   "name": "python3"
  },
  "language_info": {
   "codemirror_mode": {
    "name": "ipython",
    "version": 3
   },
   "file_extension": ".py",
   "mimetype": "text/x-python",
   "name": "python",
   "nbconvert_exporter": "python",
   "pygments_lexer": "ipython3",
   "version": "3.7.3"
  }
 },
 "nbformat": 4,
 "nbformat_minor": 2
}
